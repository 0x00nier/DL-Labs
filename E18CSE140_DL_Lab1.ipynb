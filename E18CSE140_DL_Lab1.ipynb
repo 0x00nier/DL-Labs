{
 "cells": [
  {
   "cell_type": "markdown",
   "metadata": {},
   "source": [
    "# Step 1"
   ]
  },
  {
   "cell_type": "code",
   "execution_count": 2,
   "metadata": {},
   "outputs": [],
   "source": [
    "import numpy as np"
   ]
  },
  {
   "cell_type": "markdown",
   "metadata": {},
   "source": [
    "# Step 2"
   ]
  },
  {
   "cell_type": "code",
   "execution_count": 7,
   "metadata": {
    "scrolled": true
   },
   "outputs": [
    {
     "name": "stdout",
     "output_type": "stream",
     "text": [
      "Integer Array (size - 5) - \n",
      "[          0           0 -2015381856         648           0]\n",
      "\n",
      "Float Array (size - 5) - \n",
      "[0.e+000 5.e-324 0.e+000 0.e+000 0.e+000]\n",
      "\n",
      "Complex Array (size - 5) - \n",
      "[1.37616100e-311+2.02566915e-322j 0.00000000e+000+0.00000000e+000j\n",
      " 4.45051270e-308+1.11420562e+092j 2.79437461e+276+1.27378631e+074j\n",
      " 2.63044058e+180+2.57726435e-312j]\n"
     ]
    }
   ],
   "source": [
    "i=np.empty(5,dtype=int)\n",
    "f=np.empty(5,dtype=float)\n",
    "c=np.empty(5,dtype=complex)\n",
    "print(\"Integer Array (size - \"+str(i.size)+\") - \")\n",
    "print(i)\n",
    "print()\n",
    "print(\"Float Array (size - \"+str(i.size)+\") - \")\n",
    "print(f)\n",
    "print()\n",
    "print(\"Complex Array (size - \"+str(i.size)+\") - \")\n",
    "print(c)"
   ]
  },
  {
   "cell_type": "markdown",
   "metadata": {},
   "source": [
    "# Step 3"
   ]
  },
  {
   "cell_type": "code",
   "execution_count": 22,
   "metadata": {},
   "outputs": [],
   "source": [
    "a=np.arange(9).reshape((3,3))\n",
    "b=np.arange(9).reshape((3,3))"
   ]
  },
  {
   "cell_type": "code",
   "execution_count": 23,
   "metadata": {},
   "outputs": [
    {
     "name": "stdout",
     "output_type": "stream",
     "text": [
      "[[ 0  2  4]\n",
      " [ 6  8 10]\n",
      " [12 14 16]]\n"
     ]
    }
   ],
   "source": [
    "print(np.add(a,b))"
   ]
  },
  {
   "cell_type": "code",
   "execution_count": 24,
   "metadata": {},
   "outputs": [
    {
     "name": "stdout",
     "output_type": "stream",
     "text": [
      "Original Matrix - \n",
      "[[0 1 2]\n",
      " [3 4 5]\n",
      " [6 7 8]]\n",
      "\n",
      "Transposed Matrix - \n",
      "[[0 3 6]\n",
      " [1 4 7]\n",
      " [2 5 8]]\n"
     ]
    }
   ],
   "source": [
    "print(\"Original Matrix - \")\n",
    "print(a)\n",
    "print()\n",
    "print(\"Transposed Matrix - \")\n",
    "print(a.T)"
   ]
  },
  {
   "cell_type": "code",
   "execution_count": 25,
   "metadata": {},
   "outputs": [
    {
     "name": "stdout",
     "output_type": "stream",
     "text": [
      "Matrix multiplication of a and b - \n",
      "[[ 15  18  21]\n",
      " [ 42  54  66]\n",
      " [ 69  90 111]]\n"
     ]
    }
   ],
   "source": [
    "print(\"Matrix multiplication of a and b - \")\n",
    "print(np.matmul(a,b))"
   ]
  },
  {
   "cell_type": "code",
   "execution_count": 26,
   "metadata": {},
   "outputs": [
    {
     "name": "stdout",
     "output_type": "stream",
     "text": [
      "Element-wise multiplication of a and b - \n",
      "[[ 0  1  4]\n",
      " [ 9 16 25]\n",
      " [36 49 64]]\n"
     ]
    }
   ],
   "source": [
    "print(\"Element-wise multiplication of a and b - \")\n",
    "print(a*b)"
   ]
  },
  {
   "cell_type": "code",
   "execution_count": 27,
   "metadata": {},
   "outputs": [
    {
     "name": "stdout",
     "output_type": "stream",
     "text": [
      "Row1-  [0 1 2]\n",
      "Row2-  [3 4 5]\n",
      "Row3-  [6 7 8]\n"
     ]
    }
   ],
   "source": [
    "for i in range(a.shape[0]):\n",
    "    print(\"Row\"+str(i+1)+\"- \",a[i])"
   ]
  },
  {
   "cell_type": "code",
   "execution_count": 47,
   "metadata": {},
   "outputs": [
    {
     "name": "stdout",
     "output_type": "stream",
     "text": [
      "Column1-  [0 3 6]\n",
      "Column2-  [1 4 7]\n",
      "Column3-  [2 5 8]\n"
     ]
    }
   ],
   "source": [
    "for i in range(a.shape[1]):\n",
    "    print(\"Column\"+str(i+1)+\"- \",a[:,i])"
   ]
  },
  {
   "cell_type": "code",
   "execution_count": 48,
   "metadata": {},
   "outputs": [
    {
     "name": "stdout",
     "output_type": "stream",
     "text": [
      "0\n"
     ]
    }
   ],
   "source": [
    "print(a[0][0])"
   ]
  },
  {
   "cell_type": "markdown",
   "metadata": {},
   "source": [
    "# Step 4"
   ]
  },
  {
   "cell_type": "code",
   "execution_count": 29,
   "metadata": {},
   "outputs": [
    {
     "name": "stdout",
     "output_type": "stream",
     "text": [
      "[[0 1 2]\n",
      " [3 4 5]]\n"
     ]
    }
   ],
   "source": [
    "print(a[0:2])"
   ]
  },
  {
   "cell_type": "code",
   "execution_count": 31,
   "metadata": {},
   "outputs": [
    {
     "name": "stdout",
     "output_type": "stream",
     "text": [
      "[[6 7 8]\n",
      " [3 4 5]\n",
      " [0 1 2]]\n"
     ]
    }
   ],
   "source": [
    "print(a[::-1])"
   ]
  },
  {
   "cell_type": "markdown",
   "metadata": {},
   "source": [
    "# Step 5"
   ]
  },
  {
   "cell_type": "code",
   "execution_count": 46,
   "metadata": {},
   "outputs": [
    {
     "name": "stdout",
     "output_type": "stream",
     "text": [
      "[['2013-14' 95.88 91.97 ... '105.4' '96.61' '101.28']\n",
      " ['2013-14' 96.62 96.87 ... '59.83' '60.83' '60.3']\n",
      " ['2013-14' 129.12 127.77 ... '65.16' '65.38' '65.27']\n",
      " ...\n",
      " ['2014-15' 100.11 101.02 ... '79.82' '80.95' '80.36']\n",
      " ['2014-15' 101.78 102.91 ... '48.27' '51.82' '49.95']\n",
      " ['2014-15' 98.85 101.43 ... '54.57' '53.81' '54.21']]\n"
     ]
    }
   ],
   "source": [
    "import pandas as pd\n",
    "df=pd.read_csv(\"datasets_794109_1364871_gross-enrollment-ratio-2013-2016.csv\")\n",
    "df=df.drop(\"State_UT\",axis=1)\n",
    "c=df.values\n",
    "print(c)"
   ]
  },
  {
   "cell_type": "code",
   "execution_count": null,
   "metadata": {},
   "outputs": [],
   "source": []
  },
  {
   "cell_type": "code",
   "execution_count": null,
   "metadata": {},
   "outputs": [],
   "source": []
  }
 ],
 "metadata": {
  "kernelspec": {
   "display_name": "Python 3",
   "language": "python",
   "name": "python3"
  },
  "language_info": {
   "codemirror_mode": {
    "name": "ipython",
    "version": 3
   },
   "file_extension": ".py",
   "mimetype": "text/x-python",
   "name": "python",
   "nbconvert_exporter": "python",
   "pygments_lexer": "ipython3",
   "version": "3.6.5"
  }
 },
 "nbformat": 4,
 "nbformat_minor": 2
}

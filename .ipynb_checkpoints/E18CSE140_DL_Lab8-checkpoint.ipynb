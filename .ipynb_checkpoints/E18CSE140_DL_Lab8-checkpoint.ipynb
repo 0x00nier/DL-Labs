{
 "cells": [
  {
   "cell_type": "code",
   "execution_count": 1,
   "metadata": {
    "ExecuteTime": {
     "end_time": "2020-10-13T13:41:23.108605Z",
     "start_time": "2020-10-13T13:41:19.053787Z"
    }
   },
   "outputs": [],
   "source": [
    "import cv2\n",
    "import matplotlib.pyplot as plt\n",
    "import glob\n",
    "import pandas as pd\n",
    "import numpy as np\n",
    "import tensorflow as tf\n",
    "from tensorflow.keras import Sequential\n",
    "from tensorflow.keras.layers import Dense,Flatten,MaxPooling2D,Conv2D,Input\n",
    "from tensorflow.keras.applications import MobileNet,Xception,VGG19,ResNet50,InceptionV3,InceptionResNetV2,DenseNet121,NASNetMobile\n",
    "from sklearn.model_selection import train_test_split"
   ]
  },
  {
   "cell_type": "code",
   "execution_count": 2,
   "metadata": {
    "ExecuteTime": {
     "end_time": "2020-10-13T13:41:55.926145Z",
     "start_time": "2020-10-13T13:41:24.180620Z"
    }
   },
   "outputs": [
    {
     "name": "stderr",
     "output_type": "stream",
     "text": [
      "C:\\ProgramData\\Anaconda3\\lib\\site-packages\\numpy\\core\\_asarray.py:136: VisibleDeprecationWarning: Creating an ndarray from ragged nested sequences (which is a list-or-tuple of lists-or-tuples-or ndarrays with different lengths or shapes) is deprecated. If you meant to do this, you must specify 'dtype=object' when creating the ndarray\n",
      "  return array(a, dtype, copy=False, order=order, subok=True)\n"
     ]
    },
    {
     "data": {
      "text/plain": [
       "0"
      ]
     },
     "execution_count": 2,
     "metadata": {},
     "output_type": "execute_result"
    }
   ],
   "source": [
    "trainc=[cv2.imread(file) for file in glob.glob(\"D:/CatsAndDogs/training_set/training_set/cats/cat.*.jpg\")]\n",
    "traind=[cv2.imread(file) for file in glob.glob(\"D:/CatsAndDogs/training_set/training_set/dogs/dog.*.jpg\")]\n",
    "testc=[cv2.imread(file) for file in glob.glob(\"D:/CatsAndDogs/test_set/test_set/cats/cat.*.jpg\")]\n",
    "testd=[cv2.imread(file) for file in glob.glob(\"D:/CatsAndDogs/test_set/test_set/dogs/dog.*.jpg\")]\n",
    "final=np.append(np.append(trainc,testc),np.append(traind,testd))\n",
    "final = np.array([cv2.resize(file, (75, 75))  for file in final])\n",
    "X=final\n",
    "y=np.append(np.full(len(trainc)+len(testc),0),np.full(len(traind)+len(testd),1))\n",
    "y=y.reshape(-1,1)\n",
    "X=X/255\n",
    "del [final,trainc,traind,testc,testd]\n",
    "import gc\n",
    "gc.collect()\n",
    "gc.collect()\n",
    "gc.collect()\n",
    "X_train, X_test, y_train, y_test = train_test_split(X, y, test_size=0.3, random_state=42)\n",
    "del [X,y]\n",
    "gc.collect()\n",
    "gc.collect()\n",
    "gc.collect()"
   ]
  },
  {
   "cell_type": "code",
   "execution_count": 3,
   "metadata": {
    "ExecuteTime": {
     "end_time": "2020-10-13T13:41:57.952747Z",
     "start_time": "2020-10-13T13:41:57.939782Z"
    }
   },
   "outputs": [],
   "source": [
    "trainaccs=[]\n",
    "testaccs=[]\n",
    "names=['Mobile Net','Xception','VGG19','ResNet 50','InceptionV3'\n",
    "       ,'InceptionResNetV2','DenseNet121'\n",
    "       ,'NASNetMobile','25% Freezing (Xception)','50% Freezing (Xception)','75% Freezing (Xception)','100% Freezing (Xception)']"
   ]
  },
  {
   "cell_type": "markdown",
   "metadata": {},
   "source": [
    "# Mobile Net"
   ]
  },
  {
   "cell_type": "code",
   "execution_count": 10,
   "metadata": {
    "ExecuteTime": {
     "end_time": "2020-10-13T13:43:54.647974Z",
     "start_time": "2020-10-13T13:42:49.870475Z"
    }
   },
   "outputs": [
    {
     "name": "stdout",
     "output_type": "stream",
     "text": [
      "WARNING:tensorflow:`input_shape` is undefined or non-square, or `rows` is not in [128, 160, 192, 224]. Weights for input shape (224, 224) will be loaded as the default.\n",
      "Epoch 1/5\n",
      "220/220 [==============================] - 10s 45ms/step - loss: 6.1404 - accuracy: 0.5891\n",
      "Epoch 2/5\n",
      "220/220 [==============================] - 9s 42ms/step - loss: 5.8844 - accuracy: 0.6108\n",
      "Epoch 3/5\n",
      "220/220 [==============================] - 9s 42ms/step - loss: 6.3111 - accuracy: 0.5846\n",
      "Epoch 4/5\n",
      "220/220 [==============================] - 9s 42ms/step - loss: 6.8434 - accuracy: 0.5499\n",
      "Epoch 5/5\n",
      "220/220 [==============================] - 9s 42ms/step - loss: 7.3581 - accuracy: 0.5190\n",
      "220/220 [==============================] - 3s 13ms/step - loss: 7.9721 - accuracy: 0.4793\n",
      "95/95 [==============================] - 1s 15ms/step - loss: 7.6354 - accuracy: 0.5018\n"
     ]
    },
    {
     "data": {
      "text/plain": [
       "0"
      ]
     },
     "execution_count": 10,
     "metadata": {},
     "output_type": "execute_result"
    }
   ],
   "source": [
    "model=Sequential()\n",
    "model.add(MobileNet(include_top=False,input_shape=(75,75,3)))\n",
    "model.add(Flatten())\n",
    "model.add(Dense(1,activation=\"relu\"))\n",
    "model.compile(loss=\"binary_crossentropy\", optimizer=\"adam\", metrics=[\"accuracy\"])\n",
    "model.fit(X_train,y_train,epochs=5)\n",
    "x.loc[names[0]]=model.evaluate(X_train,y_train)[1],model.evaluate(X_test,y_test)[1]\n",
    "with open('accuracies.pickle','wb') as f:\n",
    "    pickle.dump(x,f)\n",
    "gc.collect()\n",
    "gc.collect()\n",
    "gc.collect()\n",
    "gc.collect()"
   ]
  },
  {
   "cell_type": "markdown",
   "metadata": {},
   "source": [
    "# Xception"
   ]
  },
  {
   "cell_type": "code",
   "execution_count": 11,
   "metadata": {
    "ExecuteTime": {
     "end_time": "2020-10-13T13:47:23.148901Z",
     "start_time": "2020-10-13T13:43:54.705097Z"
    }
   },
   "outputs": [
    {
     "name": "stdout",
     "output_type": "stream",
     "text": [
      "Epoch 1/5\n",
      " 2/55 [>.............................] - ETA: 16s - loss: 3.7741 - accuracy: 0.5742WARNING:tensorflow:Callbacks method `on_train_batch_end` is slow compared to the batch time (batch time: 0.1784s vs `on_train_batch_end` time: 0.4388s). Check your callbacks.\n",
      "55/55 [==============================] - 36s 658ms/step - loss: 1.6436 - accuracy: 0.7342\n",
      "Epoch 2/5\n",
      "55/55 [==============================] - 34s 619ms/step - loss: 0.8410 - accuracy: 0.7936\n",
      "Epoch 3/5\n",
      "55/55 [==============================] - 34s 624ms/step - loss: 0.6109 - accuracy: 0.8215\n",
      "Epoch 4/5\n",
      "55/55 [==============================] - 35s 628ms/step - loss: 0.6905 - accuracy: 0.8015\n",
      "Epoch 5/5\n",
      "55/55 [==============================] - 35s 634ms/step - loss: 0.4572 - accuracy: 0.8847\n",
      "220/220 [==============================] - 11s 52ms/step - loss: 1.0296 - accuracy: 0.8742\n",
      "95/95 [==============================] - 5s 55ms/step - loss: 1.3579 - accuracy: 0.8451\n"
     ]
    },
    {
     "data": {
      "text/plain": [
       "0"
      ]
     },
     "execution_count": 11,
     "metadata": {},
     "output_type": "execute_result"
    }
   ],
   "source": [
    "model=Sequential()\n",
    "model.add(Xception(include_top=False,input_shape=(75,75,3)))\n",
    "model.add(Flatten())\n",
    "model.add(Dense(1,activation=\"relu\"))\n",
    "model.compile(loss=\"binary_crossentropy\", optimizer=\"adam\", metrics=[\"accuracy\"])\n",
    "model.fit(X_train,y_train,epochs=5,batch_size=128)\n",
    "x.loc[names[1]]=model.evaluate(X_train,y_train)[1],model.evaluate(X_test,y_test)[1]\n",
    "with open('accuracies.pickle','wb') as f:\n",
    "    pickle.dump(x,f)\n",
    "gc.collect()\n",
    "gc.collect()\n",
    "gc.collect()\n",
    "gc.collect()"
   ]
  },
  {
   "cell_type": "markdown",
   "metadata": {},
   "source": [
    "# VGG19"
   ]
  },
  {
   "cell_type": "code",
   "execution_count": 12,
   "metadata": {
    "ExecuteTime": {
     "end_time": "2020-10-13T13:50:38.235117Z",
     "start_time": "2020-10-13T13:47:23.249154Z"
    }
   },
   "outputs": [
    {
     "name": "stdout",
     "output_type": "stream",
     "text": [
      "Epoch 1/5\n",
      " 2/55 [>.............................] - ETA: 15s - loss: 8.0210 - accuracy: 0.4766WARNING:tensorflow:Callbacks method `on_train_batch_end` is slow compared to the batch time (batch time: 0.1849s vs `on_train_batch_end` time: 0.4010s). Check your callbacks.\n",
      "55/55 [==============================] - 35s 640ms/step - loss: 7.5750 - accuracy: 0.5033\n",
      "Epoch 2/5\n",
      "55/55 [==============================] - 32s 575ms/step - loss: 7.5475 - accuracy: 0.5051\n",
      "Epoch 3/5\n",
      "55/55 [==============================] - 32s 579ms/step - loss: 7.5475 - accuracy: 0.5051\n",
      "Epoch 4/5\n",
      "55/55 [==============================] - 32s 581ms/step - loss: 7.5475 - accuracy: 0.5051\n",
      "Epoch 5/5\n",
      "55/55 [==============================] - 32s 583ms/step - loss: 7.5475 - accuracy: 0.5051\n",
      "220/220 [==============================] - 14s 66ms/step - loss: 7.5475 - accuracy: 0.5051\n",
      "95/95 [==============================] - 6s 67ms/step - loss: 7.7893 - accuracy: 0.4892\n"
     ]
    },
    {
     "data": {
      "text/plain": [
       "0"
      ]
     },
     "execution_count": 12,
     "metadata": {},
     "output_type": "execute_result"
    }
   ],
   "source": [
    "model=Sequential()\n",
    "model.add(VGG19(include_top=False,input_shape=(75,75,3)))\n",
    "model.add(Flatten())\n",
    "model.add(Dense(1,activation=\"relu\"))\n",
    "model.compile(loss=\"binary_crossentropy\", optimizer=\"adam\", metrics=[\"accuracy\"])\n",
    "model.fit(X_train,y_train,epochs=5,batch_size=128)\n",
    "x.loc[names[2]]=model.evaluate(X_train,y_train)[1],model.evaluate(X_test,y_test)[1]\n",
    "with open('accuracies.pickle','wb') as f:\n",
    "    pickle.dump(x,f)\n",
    "gc.collect()\n",
    "gc.collect()\n",
    "gc.collect()\n",
    "gc.collect()"
   ]
  },
  {
   "cell_type": "markdown",
   "metadata": {},
   "source": [
    "# ResNet50"
   ]
  },
  {
   "cell_type": "code",
   "execution_count": 13,
   "metadata": {
    "ExecuteTime": {
     "end_time": "2020-10-13T13:53:25.690011Z",
     "start_time": "2020-10-13T13:50:38.319904Z"
    }
   },
   "outputs": [
    {
     "name": "stdout",
     "output_type": "stream",
     "text": [
      "Epoch 1/5\n",
      " 2/55 [>.............................] - ETA: 11s - loss: 6.1849 - accuracy: 0.5273WARNING:tensorflow:Callbacks method `on_train_batch_end` is slow compared to the batch time (batch time: 0.1656s vs `on_train_batch_end` time: 0.2783s). Check your callbacks.\n",
      "55/55 [==============================] - 26s 479ms/step - loss: 4.6119 - accuracy: 0.6276\n",
      "Epoch 2/5\n",
      "55/55 [==============================] - 25s 459ms/step - loss: 1.3772 - accuracy: 0.6361\n",
      "Epoch 3/5\n",
      "55/55 [==============================] - 26s 464ms/step - loss: 0.8076 - accuracy: 0.7094\n",
      "Epoch 4/5\n",
      "55/55 [==============================] - 26s 464ms/step - loss: 0.7273 - accuracy: 0.7282\n",
      "Epoch 5/5\n",
      "55/55 [==============================] - 26s 468ms/step - loss: 0.7556 - accuracy: 0.7542\n",
      "220/220 [==============================] - 11s 49ms/step - loss: 1.1048 - accuracy: 0.4949\n",
      "95/95 [==============================] - 5s 51ms/step - loss: 1.0740 - accuracy: 0.5108\n"
     ]
    },
    {
     "data": {
      "text/plain": [
       "0"
      ]
     },
     "execution_count": 13,
     "metadata": {},
     "output_type": "execute_result"
    }
   ],
   "source": [
    "model=Sequential()\n",
    "model.add(ResNet50(include_top=False,input_shape=(75,75,3)))\n",
    "model.add(Flatten())\n",
    "model.add(Dense(1,activation=\"relu\"))\n",
    "model.compile(loss=\"binary_crossentropy\", optimizer=\"adam\", metrics=[\"accuracy\"])\n",
    "model.fit(X_train,y_train,epochs=5,batch_size=128)\n",
    "x.loc[names[3]]=model.evaluate(X_train,y_train)[1],model.evaluate(X_test,y_test)[1]\n",
    "with open('accuracies.pickle','wb') as f:\n",
    "    pickle.dump(x,f)\n",
    "gc.collect()\n",
    "gc.collect()\n",
    "gc.collect()\n",
    "gc.collect()"
   ]
  },
  {
   "cell_type": "markdown",
   "metadata": {},
   "source": [
    "# InceptionV3"
   ]
  },
  {
   "cell_type": "code",
   "execution_count": 14,
   "metadata": {
    "ExecuteTime": {
     "end_time": "2020-10-13T13:55:20.121835Z",
     "start_time": "2020-10-13T13:53:25.780770Z"
    }
   },
   "outputs": [
    {
     "name": "stdout",
     "output_type": "stream",
     "text": [
      "Epoch 1/5\n",
      "55/55 [==============================] - 16s 300ms/step - loss: 1.3756 - accuracy: 0.4982\n",
      "Epoch 2/5\n",
      "55/55 [==============================] - 14s 247ms/step - loss: 0.9848 - accuracy: 0.5018\n",
      "Epoch 3/5\n",
      "55/55 [==============================] - 14s 248ms/step - loss: 0.8867 - accuracy: 0.5095\n",
      "Epoch 4/5\n",
      "55/55 [==============================] - 14s 251ms/step - loss: 0.8601 - accuracy: 0.5043\n",
      "Epoch 5/5\n",
      "55/55 [==============================] - 14s 252ms/step - loss: 0.7818 - accuracy: 0.5014\n",
      "220/220 [==============================] - 8s 36ms/step - loss: 1.7295 - accuracy: 0.4929\n",
      "95/95 [==============================] - 4s 40ms/step - loss: 1.7601 - accuracy: 0.4799\n"
     ]
    },
    {
     "data": {
      "text/plain": [
       "0"
      ]
     },
     "execution_count": 14,
     "metadata": {},
     "output_type": "execute_result"
    }
   ],
   "source": [
    "model=Sequential()\n",
    "model.add(InceptionV3(include_top=False,input_shape=(75,75,3)))\n",
    "model.add(Flatten())\n",
    "model.add(Dense(1,activation=\"relu\"))\n",
    "model.compile(loss=\"binary_crossentropy\", optimizer=\"adam\", metrics=[\"accuracy\"])\n",
    "model.fit(X_train,y_train,epochs=5,batch_size=128)\n",
    "x.loc[names[4]]=model.evaluate(X_train,y_train)[1],model.evaluate(X_test,y_test)[1]\n",
    "with open('accuracies.pickle','wb') as f:\n",
    "    pickle.dump(x,f)\n",
    "gc.collect()\n",
    "gc.collect()\n",
    "gc.collect()\n",
    "gc.collect()"
   ]
  },
  {
   "cell_type": "markdown",
   "metadata": {},
   "source": [
    "# InceptionResNetV2"
   ]
  },
  {
   "cell_type": "code",
   "execution_count": 15,
   "metadata": {
    "ExecuteTime": {
     "end_time": "2020-10-13T13:59:14.519068Z",
     "start_time": "2020-10-13T13:55:20.198630Z"
    }
   },
   "outputs": [
    {
     "name": "stdout",
     "output_type": "stream",
     "text": [
      "Epoch 1/5\n",
      "55/55 [==============================] - 29s 528ms/step - loss: 3.0586 - accuracy: 0.6504\n",
      "Epoch 2/5\n",
      "55/55 [==============================] - 28s 509ms/step - loss: 0.7084 - accuracy: 0.6769\n",
      "Epoch 3/5\n",
      "55/55 [==============================] - 28s 518ms/step - loss: 0.5494 - accuracy: 0.7803\n",
      "Epoch 4/5\n",
      "55/55 [==============================] - 29s 524ms/step - loss: 0.4658 - accuracy: 0.8488\n",
      "Epoch 5/5\n",
      "55/55 [==============================] - 29s 527ms/step - loss: 0.5834 - accuracy: 0.7894\n",
      "220/220 [==============================] - 16s 71ms/step - loss: 0.5166 - accuracy: 0.8483\n",
      "95/95 [==============================] - 7s 73ms/step - loss: 0.6487 - accuracy: 0.8288\n"
     ]
    },
    {
     "data": {
      "text/plain": [
       "0"
      ]
     },
     "execution_count": 15,
     "metadata": {},
     "output_type": "execute_result"
    }
   ],
   "source": [
    "model=Sequential()\n",
    "model.add(InceptionResNetV2(include_top=False,input_shape=(75,75,3)))\n",
    "model.add(Flatten())\n",
    "model.add(Dense(1,activation=\"relu\"))\n",
    "model.compile(loss=\"binary_crossentropy\", optimizer=\"adam\", metrics=[\"accuracy\"])\n",
    "model.fit(X_train,y_train,epochs=5,batch_size=128)\n",
    "x.loc[names[5]]=model.evaluate(X_train,y_train)[1],model.evaluate(X_test,y_test)[1]\n",
    "with open('accuracies.pickle','wb') as f:\n",
    "    pickle.dump(x,f)\n",
    "gc.collect()\n",
    "gc.collect()\n",
    "gc.collect()\n",
    "gc.collect()"
   ]
  },
  {
   "cell_type": "markdown",
   "metadata": {},
   "source": [
    "# DenseNet121"
   ]
  },
  {
   "cell_type": "code",
   "execution_count": 16,
   "metadata": {
    "ExecuteTime": {
     "end_time": "2020-10-13T14:01:55.880124Z",
     "start_time": "2020-10-13T13:59:14.591875Z"
    }
   },
   "outputs": [
    {
     "name": "stdout",
     "output_type": "stream",
     "text": [
      "Epoch 1/5\n",
      "55/55 [==============================] - 24s 433ms/step - loss: 6.0725 - accuracy: 0.5998\n",
      "Epoch 2/5\n",
      "55/55 [==============================] - 19s 351ms/step - loss: 6.7332 - accuracy: 0.5610\n",
      "Epoch 3/5\n",
      "55/55 [==============================] - 20s 355ms/step - loss: 6.8688 - accuracy: 0.5521\n",
      "Epoch 4/5\n",
      "55/55 [==============================] - 20s 358ms/step - loss: 6.8687 - accuracy: 0.5528\n",
      "Epoch 5/5\n",
      "55/55 [==============================] - 20s 359ms/step - loss: 6.7243 - accuracy: 0.5612\n",
      "220/220 [==============================] - 9s 43ms/step - loss: 6.4015 - accuracy: 0.5826\n",
      "95/95 [==============================] - 5s 49ms/step - loss: 6.1568 - accuracy: 0.5982\n"
     ]
    },
    {
     "data": {
      "text/plain": [
       "0"
      ]
     },
     "execution_count": 16,
     "metadata": {},
     "output_type": "execute_result"
    }
   ],
   "source": [
    "model=Sequential()\n",
    "model.add(DenseNet121(include_top=False,input_shape=(75,75,3)))\n",
    "model.add(Flatten())\n",
    "model.add(Dense(1,activation=\"relu\"))\n",
    "model.compile(loss=\"binary_crossentropy\", optimizer=\"adam\", metrics=[\"accuracy\"])\n",
    "model.fit(X_train,y_train,epochs=5,batch_size=128)\n",
    "x.loc[names[6]]=model.evaluate(X_train,y_train)[1],model.evaluate(X_test,y_test)[1]\n",
    "with open('accuracies.pickle','wb') as f:\n",
    "    pickle.dump(x,f)\n",
    "gc.collect()\n",
    "gc.collect()\n",
    "gc.collect()\n",
    "gc.collect()"
   ]
  },
  {
   "cell_type": "markdown",
   "metadata": {},
   "source": [
    "# NASNetMobile"
   ]
  },
  {
   "cell_type": "code",
   "execution_count": 17,
   "metadata": {
    "ExecuteTime": {
     "end_time": "2020-10-13T14:05:25.462883Z",
     "start_time": "2020-10-13T14:01:55.959915Z"
    }
   },
   "outputs": [
    {
     "name": "stdout",
     "output_type": "stream",
     "text": [
      "Epoch 1/5\n",
      "55/55 [==============================] - 24s 430ms/step - loss: 7.4679 - accuracy: 0.5061\n",
      "Epoch 2/5\n",
      "55/55 [==============================] - 24s 427ms/step - loss: 7.5475 - accuracy: 0.5051\n",
      "Epoch 3/5\n",
      "55/55 [==============================] - 24s 434ms/step - loss: 7.5475 - accuracy: 0.5051\n",
      "Epoch 4/5\n",
      "55/55 [==============================] - 24s 436ms/step - loss: 7.5475 - accuracy: 0.5051\n",
      "Epoch 5/5\n",
      "55/55 [==============================] - 24s 441ms/step - loss: 7.5475 - accuracy: 0.5051\n",
      "220/220 [==============================] - 9s 42ms/step - loss: 7.5155 - accuracy: 0.5048\n",
      "95/95 [==============================] - 4s 44ms/step - loss: 7.7548 - accuracy: 0.4892\n"
     ]
    },
    {
     "data": {
      "text/plain": [
       "0"
      ]
     },
     "execution_count": 17,
     "metadata": {},
     "output_type": "execute_result"
    }
   ],
   "source": [
    "model=Sequential()\n",
    "model.add(NASNetMobile(weights=None,include_top=False,input_shape=(75,75,3)))\n",
    "model.add(Flatten())\n",
    "model.add(Dense(1,activation=\"relu\"))\n",
    "model.compile(loss=\"binary_crossentropy\", optimizer=\"adam\", metrics=[\"accuracy\"])\n",
    "model.fit(X_train,y_train,epochs=5,batch_size=128)\n",
    "x.loc[names[7]]=model.evaluate(X_train,y_train)[1],model.evaluate(X_test,y_test)[1]\n",
    "with open('accuracies.pickle','wb') as f:\n",
    "    pickle.dump(x,f)\n",
    "gc.collect()\n",
    "gc.collect()\n",
    "gc.collect()\n",
    "gc.collect()"
   ]
  },
  {
   "cell_type": "markdown",
   "metadata": {},
   "source": [
    "# 25% Freezing"
   ]
  },
  {
   "cell_type": "code",
   "execution_count": 18,
   "metadata": {
    "ExecuteTime": {
     "end_time": "2020-10-13T14:07:59.677610Z",
     "start_time": "2020-10-13T14:05:25.547658Z"
    }
   },
   "outputs": [
    {
     "name": "stdout",
     "output_type": "stream",
     "text": [
      "Model: \"sequential_8\"\n",
      "_________________________________________________________________\n",
      "Layer (type)                 Output Shape              Param #   \n",
      "=================================================================\n",
      "xception (Functional)        (None, 3, 3, 2048)        20861480  \n",
      "_________________________________________________________________\n",
      "flatten_8 (Flatten)          (None, 18432)             0         \n",
      "_________________________________________________________________\n",
      "dense_8 (Dense)              (None, 1)                 18433     \n",
      "=================================================================\n",
      "Total params: 20,879,913\n",
      "Trainable params: 19,720,081\n",
      "Non-trainable params: 1,159,832\n",
      "_________________________________________________________________\n",
      "Epoch 1/5\n",
      "55/55 [==============================] - 23s 414ms/step - loss: 1.0860 - accuracy: 0.7766\n",
      "Epoch 2/5\n",
      "55/55 [==============================] - 24s 436ms/step - loss: 0.7825 - accuracy: 0.8316\n",
      "Epoch 3/5\n",
      "55/55 [==============================] - 24s 442ms/step - loss: 0.5515 - accuracy: 0.8910\n",
      "Epoch 4/5\n",
      "55/55 [==============================] - 24s 445ms/step - loss: 0.4627 - accuracy: 0.9125\n",
      "Epoch 5/5\n",
      "55/55 [==============================] - 24s 434ms/step - loss: 0.4954 - accuracy: 0.9053\n",
      "220/220 [==============================] - 11s 51ms/step - loss: 5.8833 - accuracy: 0.5650\n",
      "95/95 [==============================] - 5s 52ms/step - loss: 5.9447 - accuracy: 0.5673\n"
     ]
    },
    {
     "data": {
      "text/plain": [
       "0"
      ]
     },
     "execution_count": 18,
     "metadata": {},
     "output_type": "execute_result"
    }
   ],
   "source": [
    "model=Sequential()\n",
    "xception=Xception(include_top=False,input_shape=(75,75,3))\n",
    "for i in xception.layers[:(int(len(xception.layers)*0.25))]:\n",
    "    i.trainable=False\n",
    "model.add(xception)\n",
    "model.add(Flatten())\n",
    "model.add(Dense(1,activation=\"relu\"))\n",
    "model.summary()\n",
    "model.compile(loss=\"binary_crossentropy\", optimizer=\"adam\", metrics=[\"accuracy\"])\n",
    "model.fit(X_train,y_train,epochs=5,batch_size=128)\n",
    "x.loc[names[8]]=model.evaluate(X_train,y_train)[1],model.evaluate(X_test,y_test)[1]\n",
    "with open('accuracies.pickle','wb') as f:\n",
    "    pickle.dump(x,f)\n",
    "gc.collect()\n",
    "gc.collect()\n",
    "gc.collect()\n",
    "gc.collect()"
   ]
  },
  {
   "cell_type": "markdown",
   "metadata": {},
   "source": [
    "# 50% Freezing"
   ]
  },
  {
   "cell_type": "code",
   "execution_count": 19,
   "metadata": {
    "ExecuteTime": {
     "end_time": "2020-10-13T14:10:07.202254Z",
     "start_time": "2020-10-13T14:07:59.777342Z"
    }
   },
   "outputs": [
    {
     "name": "stdout",
     "output_type": "stream",
     "text": [
      "Model: \"sequential_9\"\n",
      "_________________________________________________________________\n",
      "Layer (type)                 Output Shape              Param #   \n",
      "=================================================================\n",
      "xception (Functional)        (None, 3, 3, 2048)        20861480  \n",
      "_________________________________________________________________\n",
      "flatten_9 (Flatten)          (None, 18432)             0         \n",
      "_________________________________________________________________\n",
      "dense_9 (Dense)              (None, 1)                 18433     \n",
      "=================================================================\n",
      "Total params: 20,879,913\n",
      "Trainable params: 14,876,697\n",
      "Non-trainable params: 6,003,216\n",
      "_________________________________________________________________\n",
      "Epoch 1/5\n",
      "55/55 [==============================] - 18s 327ms/step - loss: 1.2696 - accuracy: 0.7940\n",
      "Epoch 2/5\n",
      "55/55 [==============================] - 19s 340ms/step - loss: 0.6303 - accuracy: 0.8451\n",
      "Epoch 3/5\n",
      "55/55 [==============================] - 19s 345ms/step - loss: 0.4648 - accuracy: 0.9053\n",
      "Epoch 4/5\n",
      "55/55 [==============================] - 19s 346ms/step - loss: 0.4406 - accuracy: 0.8930\n",
      "Epoch 5/5\n",
      "55/55 [==============================] - 19s 347ms/step - loss: 0.3410 - accuracy: 0.9224\n",
      "220/220 [==============================] - 11s 51ms/step - loss: 0.7505 - accuracy: 0.9202\n",
      "95/95 [==============================] - 5s 51ms/step - loss: 1.4003 - accuracy: 0.8564\n"
     ]
    },
    {
     "data": {
      "text/plain": [
       "0"
      ]
     },
     "execution_count": 19,
     "metadata": {},
     "output_type": "execute_result"
    }
   ],
   "source": [
    "model=Sequential()\n",
    "xception=Xception(include_top=False,input_shape=(75,75,3))\n",
    "for i in xception.layers[:(int(len(xception.layers)*0.5))]:\n",
    "    i.trainable=False\n",
    "model.add(xception)\n",
    "model.add(Flatten())\n",
    "model.add(Dense(1,activation=\"relu\"))\n",
    "model.summary()\n",
    "model.compile(loss=\"binary_crossentropy\", optimizer=\"adam\", metrics=[\"accuracy\"])\n",
    "model.fit(X_train,y_train,epochs=5,batch_size=128)\n",
    "x.loc[names[9]]=model.evaluate(X_train,y_train)[1],model.evaluate(X_test,y_test)[1]\n",
    "with open('accuracies.pickle','wb') as f:\n",
    "    pickle.dump(x,f)\n",
    "gc.collect()\n",
    "gc.collect()\n",
    "gc.collect()\n",
    "gc.collect()"
   ]
  },
  {
   "cell_type": "markdown",
   "metadata": {},
   "source": [
    "# 75% Freezing"
   ]
  },
  {
   "cell_type": "code",
   "execution_count": 20,
   "metadata": {
    "ExecuteTime": {
     "end_time": "2020-10-13T14:11:50.212572Z",
     "start_time": "2020-10-13T14:10:07.296006Z"
    }
   },
   "outputs": [
    {
     "name": "stdout",
     "output_type": "stream",
     "text": [
      "Model: \"sequential_10\"\n",
      "_________________________________________________________________\n",
      "Layer (type)                 Output Shape              Param #   \n",
      "=================================================================\n",
      "xception (Functional)        (None, 3, 3, 2048)        20861480  \n",
      "_________________________________________________________________\n",
      "flatten_10 (Flatten)         (None, 18432)             0         \n",
      "_________________________________________________________________\n",
      "dense_10 (Dense)             (None, 1)                 18433     \n",
      "=================================================================\n",
      "Total params: 20,879,913\n",
      "Trainable params: 9,496,777\n",
      "Non-trainable params: 11,383,136\n",
      "_________________________________________________________________\n",
      "Epoch 1/5\n",
      "55/55 [==============================] - 13s 245ms/step - loss: 1.1380 - accuracy: 0.7913\n",
      "Epoch 2/5\n",
      "55/55 [==============================] - 14s 255ms/step - loss: 1.0252 - accuracy: 0.8268\n",
      "Epoch 3/5\n",
      "55/55 [==============================] - 14s 257ms/step - loss: 0.8960 - accuracy: 0.8037\n",
      "Epoch 4/5\n",
      "55/55 [==============================] - 14s 258ms/step - loss: 0.6004 - accuracy: 0.8460\n",
      "Epoch 5/5\n",
      "55/55 [==============================] - 14s 259ms/step - loss: 0.5678 - accuracy: 0.8323\n",
      "220/220 [==============================] - 11s 51ms/step - loss: 1.6707 - accuracy: 0.8248\n",
      "95/95 [==============================] - 5s 51ms/step - loss: 1.9402 - accuracy: 0.8059\n"
     ]
    },
    {
     "data": {
      "text/plain": [
       "0"
      ]
     },
     "execution_count": 20,
     "metadata": {},
     "output_type": "execute_result"
    }
   ],
   "source": [
    "model=Sequential()\n",
    "xception=Xception(include_top=False,input_shape=(75,75,3))\n",
    "for i in xception.layers[:(int(len(xception.layers)*0.75))]:\n",
    "    i.trainable=False\n",
    "model.add(xception)\n",
    "model.add(Flatten())\n",
    "model.add(Dense(1,activation=\"relu\"))\n",
    "model.summary()\n",
    "model.compile(loss=\"binary_crossentropy\", optimizer=\"adam\", metrics=[\"accuracy\"])\n",
    "model.fit(X_train,y_train,epochs=5,batch_size=128)\n",
    "x.loc[names[10]]=model.evaluate(X_train,y_train)[1],model.evaluate(X_test,y_test)[1]\n",
    "with open('accuracies.pickle','wb') as f:\n",
    "    pickle.dump(x,f)\n",
    "gc.collect()\n",
    "gc.collect()\n",
    "gc.collect()\n",
    "gc.collect()"
   ]
  },
  {
   "cell_type": "markdown",
   "metadata": {},
   "source": [
    "# 100% Freezing"
   ]
  },
  {
   "cell_type": "code",
   "execution_count": 21,
   "metadata": {
    "ExecuteTime": {
     "end_time": "2020-10-13T14:13:06.437985Z",
     "start_time": "2020-10-13T14:11:50.313303Z"
    }
   },
   "outputs": [
    {
     "name": "stdout",
     "output_type": "stream",
     "text": [
      "Model: \"sequential_11\"\n",
      "_________________________________________________________________\n",
      "Layer (type)                 Output Shape              Param #   \n",
      "=================================================================\n",
      "xception (Functional)        (None, 3, 3, 2048)        20861480  \n",
      "_________________________________________________________________\n",
      "flatten_11 (Flatten)         (None, 18432)             0         \n",
      "_________________________________________________________________\n",
      "dense_11 (Dense)             (None, 1)                 18433     \n",
      "=================================================================\n",
      "Total params: 20,879,913\n",
      "Trainable params: 18,433\n",
      "Non-trainable params: 20,861,480\n",
      "_________________________________________________________________\n",
      "Epoch 1/5\n",
      "55/55 [==============================] - 8s 152ms/step - loss: 3.3519 - accuracy: 0.7436\n",
      "Epoch 2/5\n",
      "55/55 [==============================] - 9s 155ms/step - loss: 3.7369 - accuracy: 0.7410\n",
      "Epoch 3/5\n",
      "55/55 [==============================] - 9s 159ms/step - loss: 5.2245 - accuracy: 0.6470\n",
      "Epoch 4/5\n",
      "55/55 [==============================] - 9s 160ms/step - loss: 4.2141 - accuracy: 0.7132\n",
      "Epoch 5/5\n",
      "55/55 [==============================] - 9s 161ms/step - loss: 3.2443 - accuracy: 0.7743\n",
      "220/220 [==============================] - 11s 51ms/step - loss: 3.0040 - accuracy: 0.7909\n",
      "95/95 [==============================] - 5s 51ms/step - loss: 3.1336 - accuracy: 0.7810\n"
     ]
    },
    {
     "data": {
      "text/plain": [
       "0"
      ]
     },
     "execution_count": 21,
     "metadata": {},
     "output_type": "execute_result"
    }
   ],
   "source": [
    "model=Sequential()\n",
    "xception=Xception(include_top=False,input_shape=(75,75,3))\n",
    "for i in xception.layers[:(int(len(xception.layers)*1))]:\n",
    "    i.trainable=False\n",
    "model.add(xception)\n",
    "model.add(Flatten())\n",
    "model.add(Dense(1,activation=\"relu\"))\n",
    "model.summary()\n",
    "model.compile(loss=\"binary_crossentropy\", optimizer=\"adam\", metrics=[\"accuracy\"])\n",
    "model.fit(X_train,y_train,epochs=5,batch_size=128)\n",
    "x.loc[names[11]]=model.evaluate(X_train,y_train)[1],model.evaluate(X_test,y_test)[1]\n",
    "with open('accuracies.pickle','wb') as f:\n",
    "    pickle.dump(x,f)\n",
    "gc.collect()\n",
    "gc.collect()\n",
    "gc.collect()\n",
    "gc.collect()"
   ]
  },
  {
   "cell_type": "markdown",
   "metadata": {},
   "source": [
    "# 2,3,4 Layers over Xception"
   ]
  },
  {
   "cell_type": "code",
   "execution_count": 7,
   "metadata": {
    "ExecuteTime": {
     "end_time": "2020-10-13T13:03:03.792158Z",
     "start_time": "2020-10-13T13:03:03.764157Z"
    }
   },
   "outputs": [],
   "source": [
    "layers=[2,3,4]"
   ]
  },
  {
   "cell_type": "code",
   "execution_count": 8,
   "metadata": {
    "ExecuteTime": {
     "end_time": "2020-10-13T13:13:01.210177Z",
     "start_time": "2020-10-13T13:03:03.944304Z"
    }
   },
   "outputs": [
    {
     "name": "stdout",
     "output_type": "stream",
     "text": [
      "------------------ 2 layers over Xception ------------------\n",
      "Epoch 1/5\n",
      " 2/55 [>.............................] - ETA: 15s - loss: 7.8336 - accuracy: 0.4922WARNING:tensorflow:Callbacks method `on_train_batch_end` is slow compared to the batch time (batch time: 0.1599s vs `on_train_batch_end` time: 0.4101s). Check your callbacks.\n",
      "55/55 [==============================] - 33s 603ms/step - loss: 7.7905 - accuracy: 0.4949\n",
      "Epoch 2/5\n",
      "55/55 [==============================] - 32s 590ms/step - loss: 7.7905 - accuracy: 0.4949\n",
      "Epoch 3/5\n",
      "55/55 [==============================] - 32s 590ms/step - loss: 7.7905 - accuracy: 0.4949\n",
      "Epoch 4/5\n",
      "55/55 [==============================] - 33s 591ms/step - loss: 7.7905 - accuracy: 0.4949\n",
      "Epoch 5/5\n",
      "55/55 [==============================] - 33s 591ms/step - loss: 7.7905 - accuracy: 0.4949\n",
      "220/220 [==============================] - 11s 51ms/step - loss: 7.7905 - accuracy: 0.4949\n",
      "95/95 [==============================] - 5s 53ms/step - loss: 7.5459 - accuracy: 0.5108\n",
      "------------------ 3 layers over Xception ------------------\n",
      "Epoch 1/5\n",
      " 2/55 [>.............................] - ETA: 25s - loss: 4.3982 - accuracy: 0.5664WARNING:tensorflow:Callbacks method `on_train_batch_end` is slow compared to the batch time (batch time: 0.1653s vs `on_train_batch_end` time: 0.4002s). Check your callbacks.\n",
      "55/55 [==============================] - 32s 587ms/step - loss: 1.3471 - accuracy: 0.7398\n",
      "Epoch 2/5\n",
      "55/55 [==============================] - 33s 606ms/step - loss: 0.6902 - accuracy: 0.8323\n",
      "Epoch 3/5\n",
      "55/55 [==============================] - 34s 609ms/step - loss: 0.6648 - accuracy: 0.8306\n",
      "Epoch 4/5\n",
      "55/55 [==============================] - 34s 619ms/step - loss: 0.6287 - accuracy: 0.8221\n",
      "Epoch 5/5\n",
      "55/55 [==============================] - 34s 623ms/step - loss: 0.5734 - accuracy: 0.8410\n",
      "220/220 [==============================] - 11s 50ms/step - loss: 1.8825 - accuracy: 0.8186\n",
      "95/95 [==============================] - 5s 50ms/step - loss: 2.0394 - accuracy: 0.8062\n",
      "------------------ 4 layers over Xception ------------------\n",
      "Epoch 1/5\n",
      " 2/55 [>.............................] - ETA: 25s - loss: 8.6765 - accuracy: 0.4375WARNING:tensorflow:Callbacks method `on_train_batch_end` is slow compared to the batch time (batch time: 0.1656s vs `on_train_batch_end` time: 0.3920s). Check your callbacks.\n",
      "55/55 [==============================] - 33s 593ms/step - loss: 7.7905 - accuracy: 0.4949\n",
      "Epoch 2/5\n",
      "55/55 [==============================] - 33s 607ms/step - loss: 7.7905 - accuracy: 0.4949\n",
      "Epoch 3/5\n",
      "55/55 [==============================] - 33s 609ms/step - loss: 7.7905 - accuracy: 0.4949\n",
      "Epoch 4/5\n",
      "55/55 [==============================] - 34s 611ms/step - loss: 7.7905 - accuracy: 0.4949\n",
      "Epoch 5/5\n",
      "55/55 [==============================] - 34s 614ms/step - loss: 7.7905 - accuracy: 0.4949\n",
      "220/220 [==============================] - 11s 52ms/step - loss: 7.7905 - accuracy: 0.4949\n",
      "95/95 [==============================] - 5s 50ms/step - loss: 7.5459 - accuracy: 0.5108\n"
     ]
    }
   ],
   "source": [
    "for i in range(len(layers)):\n",
    "    print(\"------------------ \"+str(layers[i])+\" layers over Xception ------------------\")\n",
    "    model=Sequential()\n",
    "    model.add(Xception(include_top=False,input_shape=(75,75,3)))\n",
    "    model.add(Flatten())\n",
    "    for i in range(layers[i]):\n",
    "        model.add(Dense(512,activation=\"relu\"))\n",
    "    model.add(Dense(1,activation=\"relu\"))\n",
    "    model.compile(loss=\"binary_crossentropy\", optimizer=\"adam\", metrics=[\"accuracy\"])\n",
    "    model.fit(X_train,y_train,epochs=5,batch_size=128)\n",
    "    trainaccs.append(model.evaluate(X_train,y_train)[1])\n",
    "    testaccs.append(model.evaluate(X_test,y_test)[1])\n",
    "    del [model]\n",
    "    gc.collect()\n",
    "    gc.collect()\n",
    "    gc.collect()"
   ]
  },
  {
   "cell_type": "code",
   "execution_count": 6,
   "metadata": {
    "ExecuteTime": {
     "end_time": "2020-10-13T13:42:17.859149Z",
     "start_time": "2020-10-13T13:42:17.848164Z"
    }
   },
   "outputs": [],
   "source": [
    "with open('accuracies.pickle', 'rb') as f:\n",
    "    x = pickle.load(f)"
   ]
  },
  {
   "cell_type": "code",
   "execution_count": 22,
   "metadata": {
    "ExecuteTime": {
     "end_time": "2020-10-13T14:13:12.015173Z",
     "start_time": "2020-10-13T14:13:12.001213Z"
    }
   },
   "outputs": [
    {
     "data": {
      "text/html": [
       "<div>\n",
       "<style scoped>\n",
       "    .dataframe tbody tr th:only-of-type {\n",
       "        vertical-align: middle;\n",
       "    }\n",
       "\n",
       "    .dataframe tbody tr th {\n",
       "        vertical-align: top;\n",
       "    }\n",
       "\n",
       "    .dataframe thead th {\n",
       "        text-align: right;\n",
       "    }\n",
       "</style>\n",
       "<table border=\"1\" class=\"dataframe\">\n",
       "  <thead>\n",
       "    <tr style=\"text-align: right;\">\n",
       "      <th></th>\n",
       "      <th>Training Accuracy</th>\n",
       "      <th>Testing Accuracy</th>\n",
       "    </tr>\n",
       "    <tr>\n",
       "      <th>Name</th>\n",
       "      <th></th>\n",
       "      <th></th>\n",
       "    </tr>\n",
       "  </thead>\n",
       "  <tbody>\n",
       "    <tr>\n",
       "      <th>Xception with 2 Layers</th>\n",
       "      <td>0.494942</td>\n",
       "      <td>0.510801</td>\n",
       "    </tr>\n",
       "    <tr>\n",
       "      <th>Xception with 3 Layers</th>\n",
       "      <td>0.818635</td>\n",
       "      <td>0.806248</td>\n",
       "    </tr>\n",
       "    <tr>\n",
       "      <th>Xception with 4 Layers</th>\n",
       "      <td>0.494942</td>\n",
       "      <td>0.510801</td>\n",
       "    </tr>\n",
       "    <tr>\n",
       "      <th>Mobile Net</th>\n",
       "      <td>0.479271</td>\n",
       "      <td>0.501828</td>\n",
       "    </tr>\n",
       "    <tr>\n",
       "      <th>Xception</th>\n",
       "      <td>0.874199</td>\n",
       "      <td>0.845131</td>\n",
       "    </tr>\n",
       "    <tr>\n",
       "      <th>VGG19</th>\n",
       "      <td>0.505058</td>\n",
       "      <td>0.489199</td>\n",
       "    </tr>\n",
       "    <tr>\n",
       "      <th>ResNet 50</th>\n",
       "      <td>0.494942</td>\n",
       "      <td>0.510801</td>\n",
       "    </tr>\n",
       "    <tr>\n",
       "      <th>InceptionV3</th>\n",
       "      <td>0.492948</td>\n",
       "      <td>0.479894</td>\n",
       "    </tr>\n",
       "    <tr>\n",
       "      <th>InceptionResNetV2</th>\n",
       "      <td>0.848269</td>\n",
       "      <td>0.828847</td>\n",
       "    </tr>\n",
       "    <tr>\n",
       "      <th>DenseNet121</th>\n",
       "      <td>0.582562</td>\n",
       "      <td>0.598205</td>\n",
       "    </tr>\n",
       "    <tr>\n",
       "      <th>NASNetMobile</th>\n",
       "      <td>0.504773</td>\n",
       "      <td>0.489199</td>\n",
       "    </tr>\n",
       "    <tr>\n",
       "      <th>25% Freezing (Xception)</th>\n",
       "      <td>0.565038</td>\n",
       "      <td>0.567298</td>\n",
       "    </tr>\n",
       "    <tr>\n",
       "      <th>50% Freezing (Xception)</th>\n",
       "      <td>0.920217</td>\n",
       "      <td>0.856431</td>\n",
       "    </tr>\n",
       "    <tr>\n",
       "      <th>75% Freezing (Xception)</th>\n",
       "      <td>0.824761</td>\n",
       "      <td>0.805916</td>\n",
       "    </tr>\n",
       "    <tr>\n",
       "      <th>100% Freezing (Xception)</th>\n",
       "      <td>0.790853</td>\n",
       "      <td>0.780990</td>\n",
       "    </tr>\n",
       "  </tbody>\n",
       "</table>\n",
       "</div>"
      ],
      "text/plain": [
       "                          Training Accuracy  Testing Accuracy\n",
       "Name                                                         \n",
       "Xception with 2 Layers             0.494942          0.510801\n",
       "Xception with 3 Layers             0.818635          0.806248\n",
       "Xception with 4 Layers             0.494942          0.510801\n",
       "Mobile Net                         0.479271          0.501828\n",
       "Xception                           0.874199          0.845131\n",
       "VGG19                              0.505058          0.489199\n",
       "ResNet 50                          0.494942          0.510801\n",
       "InceptionV3                        0.492948          0.479894\n",
       "InceptionResNetV2                  0.848269          0.828847\n",
       "DenseNet121                        0.582562          0.598205\n",
       "NASNetMobile                       0.504773          0.489199\n",
       "25% Freezing (Xception)            0.565038          0.567298\n",
       "50% Freezing (Xception)            0.920217          0.856431\n",
       "75% Freezing (Xception)            0.824761          0.805916\n",
       "100% Freezing (Xception)           0.790853          0.780990"
      ]
     },
     "execution_count": 22,
     "metadata": {},
     "output_type": "execute_result"
    }
   ],
   "source": [
    "x"
   ]
  },
  {
   "cell_type": "code",
   "execution_count": null,
   "metadata": {},
   "outputs": [],
   "source": []
  }
 ],
 "metadata": {
  "kernelspec": {
   "display_name": "Python 3",
   "language": "python",
   "name": "python3"
  },
  "language_info": {
   "codemirror_mode": {
    "name": "ipython",
    "version": 3
   },
   "file_extension": ".py",
   "mimetype": "text/x-python",
   "name": "python",
   "nbconvert_exporter": "python",
   "pygments_lexer": "ipython3",
   "version": "3.8.5"
  },
  "varInspector": {
   "cols": {
    "lenName": 16,
    "lenType": 16,
    "lenVar": 40
   },
   "kernels_config": {
    "python": {
     "delete_cmd_postfix": "",
     "delete_cmd_prefix": "del ",
     "library": "var_list.py",
     "varRefreshCmd": "print(var_dic_list())"
    },
    "r": {
     "delete_cmd_postfix": ") ",
     "delete_cmd_prefix": "rm(",
     "library": "var_list.r",
     "varRefreshCmd": "cat(var_dic_list()) "
    }
   },
   "types_to_exclude": [
    "module",
    "function",
    "builtin_function_or_method",
    "instance",
    "_Feature"
   ],
   "window_display": false
  }
 },
 "nbformat": 4,
 "nbformat_minor": 4
}

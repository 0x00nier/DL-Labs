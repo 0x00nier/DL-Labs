{
 "cells": [
  {
   "cell_type": "code",
   "execution_count": 1,
   "metadata": {},
   "outputs": [],
   "source": [
    "import pandas as pd"
   ]
  },
  {
   "cell_type": "code",
   "execution_count": 2,
   "metadata": {},
   "outputs": [
    {
     "name": "stdout",
     "output_type": "stream",
     "text": [
      "  InvoiceNo StockCode                          Description  Quantity  \\\n",
      "0    536365    85123A   WHITE HANGING HEART T-LIGHT HOLDER         6   \n",
      "1    536365     71053                  WHITE METAL LANTERN         6   \n",
      "2    536365    84406B       CREAM CUPID HEARTS COAT HANGER         8   \n",
      "3    536365    84029G  KNITTED UNION FLAG HOT WATER BOTTLE         6   \n",
      "4    536365    84029E       RED WOOLLY HOTTIE WHITE HEART.         6   \n",
      "\n",
      "          InvoiceDate  UnitPrice  CustomerID         Country  \n",
      "0 2010-12-01 08:26:00       2.55     17850.0  United Kingdom  \n",
      "1 2010-12-01 08:26:00       3.39     17850.0  United Kingdom  \n",
      "2 2010-12-01 08:26:00       2.75     17850.0  United Kingdom  \n",
      "3 2010-12-01 08:26:00       3.39     17850.0  United Kingdom  \n",
      "4 2010-12-01 08:26:00       3.39     17850.0  United Kingdom  \n"
     ]
    }
   ],
   "source": [
    "df=pd.read_excel(\"Online Retail.xlsx\")\n",
    "print(df.head())"
   ]
  },
  {
   "cell_type": "code",
   "execution_count": 32,
   "metadata": {},
   "outputs": [
    {
     "name": "stdout",
     "output_type": "stream",
     "text": [
      "Index(['InvoiceNo', 'StockCode', 'Description', 'Quantity', 'InvoiceDate',\n",
      "       'UnitPrice', 'CustomerID', 'Country'],\n",
      "      dtype='object')\n"
     ]
    }
   ],
   "source": [
    "print(df.columns)"
   ]
  },
  {
   "cell_type": "code",
   "execution_count": 33,
   "metadata": {},
   "outputs": [
    {
     "name": "stdout",
     "output_type": "stream",
     "text": [
      "InvoiceNo                         581219\n",
      "StockCode                          21947\n",
      "Description    SET OF 6 HEART CHOPSTICKS\n",
      "Quantity                               1\n",
      "Name: 536544, dtype: object\n"
     ]
    }
   ],
   "source": [
    "newdf=df.iloc[536544,0:4]\n",
    "print(newdf)"
   ]
  },
  {
   "cell_type": "code",
   "execution_count": 34,
   "metadata": {},
   "outputs": [
    {
     "name": "stdout",
     "output_type": "stream",
     "text": [
      "Minimum of the column Unit Price - -11062.06\n",
      "Maximum of the column Unit Price -  38970.0\n",
      "Median of the column Unit Price -  2.08\n",
      "Count of the column Unit Price -  541909\n",
      "Sum of the column Unit Price -  2498803.974\n",
      "Standard Deviation of the column Unit Price -  96.75985306119716\n",
      "Variance of the column Unit Price -  9362.469164424467\n"
     ]
    }
   ],
   "source": [
    "price=df[\"UnitPrice\"]\n",
    "print(\"Minimum of the column Unit Price -\",price.min())\n",
    "print(\"Maximum of the column Unit Price - \",price.max())\n",
    "print(\"Median of the column Unit Price - \",price.median())\n",
    "print(\"Count of the column Unit Price - \",price.count())\n",
    "print(\"Sum of the column Unit Price - \",price.sum())\n",
    "print(\"Standard Deviation of the column Unit Price - \",price.std())\n",
    "print(\"Variance of the column Unit Price - \",price.var())"
   ]
  },
  {
   "cell_type": "code",
   "execution_count": 43,
   "metadata": {},
   "outputs": [
    {
     "name": "stdout",
     "output_type": "stream",
     "text": [
      "  InvoiceNo StockCode                          Description  Quantity  \\\n",
      "0    536378    84519A      TOMATO CHARLIE+LOLA COASTER SET         6   \n",
      "1    536378    85183B  CHARLIE & LOLA WASTEPAPER BIN FLORA        48   \n",
      "2    536378    85071B   RED CHARLIE+LOLA PERSONAL DOORSIGN        96   \n",
      "3    536378     21931               JUMBO STORAGE BAG SUKI        10   \n",
      "4    536378     21929       JUMBO BAG PINK VINTAGE PAISLEY        10   \n",
      "\n",
      "          InvoiceDate  UnitPrice  CustomerID         Country  \n",
      "0 2010-12-01 09:37:00       2.95     14688.0  United Kingdom  \n",
      "1 2010-12-01 09:37:00       1.25     14688.0  United Kingdom  \n",
      "2 2010-12-01 09:37:00       0.38     14688.0  United Kingdom  \n",
      "3 2010-12-01 09:37:00       1.95     14688.0  United Kingdom  \n",
      "4 2010-12-01 09:37:00       1.95     14688.0  United Kingdom  \n"
     ]
    }
   ],
   "source": [
    "df1=pd.read_excel(\"Online Retail.xlsx\",skiprows=[i for i in range(1,101)])\n",
    "df1=df1.sort_values(by=\"InvoiceDate\")\n",
    "print(df1.head())"
   ]
  },
  {
   "cell_type": "code",
   "execution_count": null,
   "metadata": {},
   "outputs": [],
   "source": []
  },
  {
   "cell_type": "code",
   "execution_count": 44,
   "metadata": {},
   "outputs": [
    {
     "name": "stdout",
     "output_type": "stream",
     "text": [
      "13164                                 damages\n",
      "50949                                 damages\n",
      "105619                                damages\n",
      "114328                                damages\n",
      "114435                       dotcom sold sets\n",
      "115705                        damages/display\n",
      "115708                                damages\n",
      "115710                          damaged stock\n",
      "117796                                damages\n",
      "136171                               damages?\n",
      "146499                                damages\n",
      "150250                                damages\n",
      "154556                                damaged\n",
      "154699                                damaged\n",
      "160441    did  a credit  and did not tick ret\n",
      "166166                                damages\n",
      "166386                                damages\n",
      "166736                                damaged\n",
      "170384                                damaged\n",
      "170437                                damages\n",
      "173310                   damages/showroom etc\n",
      "174554             damages/credits from ASOS.\n",
      "180518                                damaged\n",
      "189199                                damaged\n",
      "192191                                damages\n",
      "192193                        damages/dotcom?\n",
      "192195                                damages\n",
      "200252                                damaged\n",
      "200462                                damages\n",
      "200463                                damages\n",
      "                         ...                 \n",
      "424208                                damages\n",
      "429085                                damages\n",
      "431699                           dotcom sales\n",
      "436531                                damaged\n",
      "445007                                damages\n",
      "445027                            damages wax\n",
      "445028                            damages wax\n",
      "446452                                damaged\n",
      "465597                                damages\n",
      "467718                                damages\n",
      "467719                                damages\n",
      "472122                                damaged\n",
      "474547                                damaged\n",
      "476766                            dotcomstock\n",
      "485493                          dotcom adjust\n",
      "485494                                 dotcom\n",
      "489143                                damaged\n",
      "492098                                damaged\n",
      "492559                                 dotcom\n",
      "497716                                damages\n",
      "497717                                damages\n",
      "497718                                damages\n",
      "500045                                damaged\n",
      "514881                                damaged\n",
      "522058                                damages\n",
      "522059                                damages\n",
      "524372                                 dotcom\n",
      "524374                                 dotcom\n",
      "535224                               damages?\n",
      "535228                                damages\n",
      "Name: Description, Length: 111, dtype: object\n"
     ]
    }
   ],
   "source": [
    "df1=df1[\"Description\"]\n",
    "print(df1.loc[df1.str.startswith('d',na=False)])"
   ]
  },
  {
   "cell_type": "code",
   "execution_count": 54,
   "metadata": {},
   "outputs": [
    {
     "name": "stdout",
     "output_type": "stream",
     "text": [
      "       student name date of birth  marks in maths\n",
      "0      Raghav Verma    03/09/2000             100\n",
      "1         Raja Modi    02/08/2000              98\n",
      "2     Krishna Murti    21/07/1999              70\n",
      "3  Priyanshu Prasad    10/07/2000              80\n",
      "4      Manav Gakhar    15/06/2000              95\n",
      "[100, 98, 70, 80, 95]\n"
     ]
    }
   ],
   "source": [
    "#lists of lists\n",
    "student=[['student name','date of birth','marks in maths'],\n",
    "         ['Raghav Verma','03/09/2000',100],\n",
    "        ['Raja Modi','02/08/2000',98],\n",
    "        ['Krishna Murti','21/07/1999',70],\n",
    "        ['Priyanshu Prasad','10/07/2000',80],\n",
    "        ['Manav Gakhar','15/06/2000',95]]\n",
    "headers=student.pop(0)\n",
    "studentdf=pd.DataFrame(student,columns=headers)\n",
    "print(studentdf)\n",
    "print(studentdf['marks in maths'].tolist())"
   ]
  },
  {
   "cell_type": "code",
   "execution_count": 57,
   "metadata": {},
   "outputs": [
    {
     "name": "stdout",
     "output_type": "stream",
     "text": [
      "       student name date of birth  marks in maths\n",
      "0      Raghav Verma    03/09/2000             100\n",
      "1         Raja Modi    02/08/2000              98\n",
      "2     Krishna Murti    21/07/1999              70\n",
      "3  Priyanshu Prasad    10/07/2000              80\n",
      "4      Manav Gakhar    15/06/2000              95\n"
     ]
    }
   ],
   "source": [
    "#dict of narray/lists\n",
    "student1={'student name':['Raghav Verma', 'Raja Modi', 'Krishna Murti', 'Priyanshu Prasad', 'Manav Gakhar'],\n",
    "          'date of birth':['03/09/2000', '02/08/2000', '21/07/1999', '10/07/2000', '15/06/2000'],\n",
    "          'marks in maths':[100, 98, 70, 80, 95]}\n",
    "studentdf1=pd.DataFrame(student1)\n",
    "print(studentdf1)"
   ]
  },
  {
   "cell_type": "code",
   "execution_count": 59,
   "metadata": {},
   "outputs": [
    {
     "name": "stdout",
     "output_type": "stream",
     "text": [
      "  date of birth  marks in maths      student name\n",
      "0    03/09/2000             100      Raghav Verma\n",
      "1    02/08/2000              98         Raja Modi\n",
      "2    21/07/1999              70     Krishna Murti\n",
      "3    10/07/2000              80  Priyanshu Prasad\n",
      "4    15/06/2000              95      Manav Gakhar\n"
     ]
    }
   ],
   "source": [
    "#list of dicts\n",
    "student2=[{'student name': 'Raghav Verma', 'date of birth': '03/09/2000', 'marks in maths': 100},\n",
    "          {'student name': 'Raja Modi', 'date of birth': '02/08/2000', 'marks in maths': 98}, \n",
    "          {'student name': 'Krishna Murti', 'date of birth': '21/07/1999', 'marks in maths': 70},\n",
    "          {'student name': 'Priyanshu Prasad', 'date of birth': '10/07/2000', 'marks in maths': 80},\n",
    "          {'student name': 'Manav Gakhar', 'date of birth': '15/06/2000', 'marks in maths': 95}]\n",
    "studentdf2=pd.DataFrame(student2)\n",
    "print(studentdf2)"
   ]
  },
  {
   "cell_type": "code",
   "execution_count": 62,
   "metadata": {},
   "outputs": [
    {
     "name": "stdout",
     "output_type": "stream",
     "text": [
      "       student name date of birth  marks in maths\n",
      "0      Raghav Verma    03/09/2000             100\n",
      "1         Raja Modi    02/08/2000              98\n",
      "2     Krishna Murti    21/07/1999              70\n",
      "3  Priyanshu Prasad    10/07/2000              80\n",
      "4      Manav Gakhar    15/06/2000              95\n"
     ]
    }
   ],
   "source": [
    "student3={'student name': pd.Series(['Raghav Verma', 'Raja Modi', 'Krishna Murti', 'Priyanshu Prasad', 'Manav Gakhar']),\n",
    "         'date of birth': pd.Series(['03/09/2000', '02/08/2000', '21/07/1999', '10/07/2000', '15/06/2000']),\n",
    "         'marks in maths': pd.Series([100, 98, 70, 80, 95])}\n",
    "studentdf3=pd.DataFrame(student3)\n",
    "print(studentdf3)"
   ]
  },
  {
   "cell_type": "code",
   "execution_count": 67,
   "metadata": {},
   "outputs": [
    {
     "name": "stdout",
     "output_type": "stream",
     "text": [
      "Empty DataFrame\n",
      "Columns: [student name, date of birth, marks in maths]\n",
      "Index: []\n"
     ]
    }
   ],
   "source": [
    "#empty dataframe\n",
    "studentdf4=pd.DataFrame(columns=['student name','date of birth','marks in maths'])\n",
    "print(studentdf4)"
   ]
  },
  {
   "cell_type": "code",
   "execution_count": 72,
   "metadata": {},
   "outputs": [
    {
     "name": "stdout",
     "output_type": "stream",
     "text": [
      "   student name date of birth marks in maths\n",
      "0  Raghav Verma    03/09/2000            100\n"
     ]
    }
   ],
   "source": [
    "studentdf4=studentdf4.append({'student name' :'Raghav Verma', \n",
    "                             'date of birth': '03/09/2000', 'marks in maths': 100},ignore_index=True)\n",
    "print(studentdf4)"
   ]
  },
  {
   "cell_type": "code",
   "execution_count": 74,
   "metadata": {},
   "outputs": [
    {
     "name": "stdout",
     "output_type": "stream",
     "text": [
      "   student name date of birth marks in maths\n",
      "0  Raghav Verma    03/09/2000            100\n",
      "1     Raja Modi    02/08/2000             98\n"
     ]
    }
   ],
   "source": [
    "studentdf4=studentdf4.append({'student name': 'Raja Modi', 'date of birth': '02/08/2000', 'marks in maths': 98},ignore_index=True)\n",
    "print(studentdf4)"
   ]
  },
  {
   "cell_type": "code",
   "execution_count": 76,
   "metadata": {},
   "outputs": [
    {
     "name": "stdout",
     "output_type": "stream",
     "text": [
      "    student name date of birth marks in maths\n",
      "0   Raghav Verma    03/09/2000            100\n",
      "1      Raja Modi    02/08/2000             98\n",
      "2  Krishna Murti    21/07/1999             70\n"
     ]
    }
   ],
   "source": [
    "studentdf4=studentdf4.append({'student name': 'Krishna Murti', 'date of birth': '21/07/1999', 'marks in maths': 70}\n",
    "                            ,ignore_index=True)\n",
    "print(studentdf4)"
   ]
  },
  {
   "cell_type": "code",
   "execution_count": 77,
   "metadata": {},
   "outputs": [
    {
     "name": "stdout",
     "output_type": "stream",
     "text": [
      "       student name date of birth marks in maths\n",
      "0      Raghav Verma    03/09/2000            100\n",
      "1         Raja Modi    02/08/2000             98\n",
      "2     Krishna Murti    21/07/1999             70\n",
      "3  Priyanshu Prasad    10/07/2000             80\n"
     ]
    }
   ],
   "source": [
    "studentdf4=studentdf4.append({'student name': 'Priyanshu Prasad', 'date of birth': '10/07/2000', 'marks in maths': 80}\n",
    "                            ,ignore_index=True)\n",
    "print(studentdf4)"
   ]
  },
  {
   "cell_type": "code",
   "execution_count": 78,
   "metadata": {},
   "outputs": [
    {
     "name": "stdout",
     "output_type": "stream",
     "text": [
      "       student name date of birth marks in maths\n",
      "0      Raghav Verma    03/09/2000            100\n",
      "1         Raja Modi    02/08/2000             98\n",
      "2     Krishna Murti    21/07/1999             70\n",
      "3  Priyanshu Prasad    10/07/2000             80\n",
      "4      Manav Gakhar    15/06/2000             95\n"
     ]
    }
   ],
   "source": [
    "studentdf4=studentdf4.append({'student name': 'Manav Gakhar', 'date of birth': '15/06/2000', 'marks in maths': 95}\n",
    "                            ,ignore_index=True)\n",
    "print(studentdf4)"
   ]
  },
  {
   "cell_type": "code",
   "execution_count": 88,
   "metadata": {},
   "outputs": [
    {
     "name": "stdout",
     "output_type": "stream",
     "text": [
      "           0\n",
      "0  -0.135104\n",
      "1  -0.788588\n",
      "2   0.317815\n",
      "3   0.241347\n",
      "4   0.192083\n",
      "5   0.089751\n",
      "6  -0.577923\n",
      "7  -0.605850\n",
      "8  -0.433238\n",
      "9  -0.084826\n",
      "10  0.178204\n",
      "11 -1.082810\n",
      "12  2.718367\n",
      "13 -0.144473\n",
      "14 -0.005944\n",
      "15 -1.015374\n",
      "16  0.550210\n",
      "17  0.820641\n",
      "18 -0.011493\n",
      "19 -0.139900\n",
      "20  0.000207\n",
      "21 -0.543990\n",
      "22 -0.006679\n",
      "23  3.948041\n",
      "24 -2.573925\n",
      "25 -1.102307\n",
      "26  1.709697\n",
      "27  0.005604\n",
      "28  0.188505\n",
      "29  1.341820\n",
      "..       ...\n",
      "70 -0.800107\n",
      "71 -0.349229\n",
      "72 -0.074107\n",
      "73  0.005480\n",
      "74 -0.282302\n",
      "75 -0.353967\n",
      "76 -0.239482\n",
      "77 -0.474866\n",
      "78 -0.210074\n",
      "79  0.363063\n",
      "80 -0.112126\n",
      "81 -0.114630\n",
      "82  0.596698\n",
      "83  0.051557\n",
      "84  0.301111\n",
      "85 -1.532934\n",
      "86  0.441485\n",
      "87 -1.013579\n",
      "88  0.180450\n",
      "89  1.039697\n",
      "90 -0.005099\n",
      "91  0.041660\n",
      "92  0.101256\n",
      "93  0.205328\n",
      "94 -0.464575\n",
      "95 -0.072346\n",
      "96 -0.661680\n",
      "97 -0.190753\n",
      "98  0.397205\n",
      "99 -0.121431\n",
      "\n",
      "[100 rows x 1 columns]\n"
     ]
    }
   ],
   "source": [
    "import numpy as np\n",
    "number1=pd.Series(np.random.randn(100))\n",
    "number2=pd.(np.random.randn(100))\n",
    "add=number1+number2\n",
    "sub=number1-number2\n",
    "mult=number1*number2\n",
    "div=number1/number2\n",
    "print(pd.DataFrame({'number 1':num})"
   ]
  },
  {
   "cell_type": "code",
   "execution_count": 79,
   "metadata": {},
   "outputs": [
    {
     "name": "stderr",
     "output_type": "stream",
     "text": [
      "warning: LF will be replaced by CRLF in E18CSE140_DL_Lab2.ipynb.\n",
      "The file will have its original line endings in your working directory\n"
     ]
    },
    {
     "name": "stdout",
     "output_type": "stream",
     "text": [
      "[master 94eb5ad] Fourth edit\n",
      " 1 file changed, 125 insertions(+), 13 deletions(-)\n"
     ]
    },
    {
     "name": "stderr",
     "output_type": "stream",
     "text": [
      "To https://github.com/raghavverma651/DL-Labs.git\n",
      "   885f15d..94eb5ad  master -> master\n"
     ]
    }
   ],
   "source": [
    "!git add E18CSE140_DL_Lab2.ipynb\n",
    "!git commit -m \"Fourth edit\"\n",
    "!git push"
   ]
  },
  {
   "cell_type": "code",
   "execution_count": null,
   "metadata": {},
   "outputs": [],
   "source": []
  },
  {
   "cell_type": "code",
   "execution_count": null,
   "metadata": {},
   "outputs": [],
   "source": []
  },
  {
   "cell_type": "code",
   "execution_count": null,
   "metadata": {},
   "outputs": [],
   "source": []
  }
 ],
 "metadata": {
  "kernelspec": {
   "display_name": "Python 3",
   "language": "python",
   "name": "python3"
  },
  "language_info": {
   "codemirror_mode": {
    "name": "ipython",
    "version": 3
   },
   "file_extension": ".py",
   "mimetype": "text/x-python",
   "name": "python",
   "nbconvert_exporter": "python",
   "pygments_lexer": "ipython3",
   "version": "3.6.5"
  }
 },
 "nbformat": 4,
 "nbformat_minor": 2
}

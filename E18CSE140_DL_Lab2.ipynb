{
 "cells": [
  {
   "cell_type": "markdown",
   "metadata": {},
   "source": [
    "# Steps"
   ]
  },
  {
   "cell_type": "code",
   "execution_count": 1,
   "metadata": {},
   "outputs": [],
   "source": [
    "import pandas as pd"
   ]
  },
  {
   "cell_type": "code",
   "execution_count": 2,
   "metadata": {},
   "outputs": [
    {
     "name": "stdout",
     "output_type": "stream",
     "text": [
      "  InvoiceNo StockCode                          Description  Quantity  \\\n",
      "0    536365    85123A   WHITE HANGING HEART T-LIGHT HOLDER         6   \n",
      "1    536365     71053                  WHITE METAL LANTERN         6   \n",
      "2    536365    84406B       CREAM CUPID HEARTS COAT HANGER         8   \n",
      "3    536365    84029G  KNITTED UNION FLAG HOT WATER BOTTLE         6   \n",
      "4    536365    84029E       RED WOOLLY HOTTIE WHITE HEART.         6   \n",
      "\n",
      "          InvoiceDate  UnitPrice  CustomerID         Country  \n",
      "0 2010-12-01 08:26:00       2.55     17850.0  United Kingdom  \n",
      "1 2010-12-01 08:26:00       3.39     17850.0  United Kingdom  \n",
      "2 2010-12-01 08:26:00       2.75     17850.0  United Kingdom  \n",
      "3 2010-12-01 08:26:00       3.39     17850.0  United Kingdom  \n",
      "4 2010-12-01 08:26:00       3.39     17850.0  United Kingdom  \n"
     ]
    }
   ],
   "source": [
    "df=pd.read_excel(\"Online Retail.xlsx\")\n",
    "print(df.head())"
   ]
  },
  {
   "cell_type": "markdown",
   "metadata": {},
   "source": [
    "### Step 1.a.i"
   ]
  },
  {
   "cell_type": "code",
   "execution_count": 32,
   "metadata": {
    "scrolled": true
   },
   "outputs": [
    {
     "name": "stdout",
     "output_type": "stream",
     "text": [
      "Index(['InvoiceNo', 'StockCode', 'Description', 'Quantity', 'InvoiceDate',\n",
      "       'UnitPrice', 'CustomerID', 'Country'],\n",
      "      dtype='object')\n"
     ]
    }
   ],
   "source": [
    "print(df.columns)"
   ]
  },
  {
   "cell_type": "code",
   "execution_count": 33,
   "metadata": {},
   "outputs": [
    {
     "name": "stdout",
     "output_type": "stream",
     "text": [
      "InvoiceNo                         581219\n",
      "StockCode                          21947\n",
      "Description    SET OF 6 HEART CHOPSTICKS\n",
      "Quantity                               1\n",
      "Name: 536544, dtype: object\n"
     ]
    }
   ],
   "source": [
    "newdf=df.iloc[536544,0:4]\n",
    "print(newdf)"
   ]
  },
  {
   "cell_type": "markdown",
   "metadata": {},
   "source": [
    "### Step 1.b.i"
   ]
  },
  {
   "cell_type": "code",
   "execution_count": 34,
   "metadata": {},
   "outputs": [
    {
     "name": "stdout",
     "output_type": "stream",
     "text": [
      "Minimum of the column Unit Price - -11062.06\n",
      "Maximum of the column Unit Price -  38970.0\n",
      "Median of the column Unit Price -  2.08\n",
      "Count of the column Unit Price -  541909\n",
      "Sum of the column Unit Price -  2498803.974\n",
      "Standard Deviation of the column Unit Price -  96.75985306119716\n",
      "Variance of the column Unit Price -  9362.469164424467\n"
     ]
    }
   ],
   "source": [
    "price=df[\"UnitPrice\"]\n",
    "print(\"Minimum of the column Unit Price -\",price.min())\n",
    "print(\"Maximum of the column Unit Price - \",price.max())\n",
    "print(\"Median of the column Unit Price - \",price.median())\n",
    "print(\"Count of the column Unit Price - \",price.count())\n",
    "print(\"Sum of the column Unit Price - \",price.sum())\n",
    "print(\"Standard Deviation of the column Unit Price - \",price.std())\n",
    "print(\"Variance of the column Unit Price - \",price.var())"
   ]
  },
  {
   "cell_type": "markdown",
   "metadata": {},
   "source": [
    "### Step 1.c.i"
   ]
  },
  {
   "cell_type": "code",
   "execution_count": 43,
   "metadata": {
    "scrolled": true
   },
   "outputs": [
    {
     "name": "stdout",
     "output_type": "stream",
     "text": [
      "  InvoiceNo StockCode                          Description  Quantity  \\\n",
      "0    536378    84519A      TOMATO CHARLIE+LOLA COASTER SET         6   \n",
      "1    536378    85183B  CHARLIE & LOLA WASTEPAPER BIN FLORA        48   \n",
      "2    536378    85071B   RED CHARLIE+LOLA PERSONAL DOORSIGN        96   \n",
      "3    536378     21931               JUMBO STORAGE BAG SUKI        10   \n",
      "4    536378     21929       JUMBO BAG PINK VINTAGE PAISLEY        10   \n",
      "\n",
      "          InvoiceDate  UnitPrice  CustomerID         Country  \n",
      "0 2010-12-01 09:37:00       2.95     14688.0  United Kingdom  \n",
      "1 2010-12-01 09:37:00       1.25     14688.0  United Kingdom  \n",
      "2 2010-12-01 09:37:00       0.38     14688.0  United Kingdom  \n",
      "3 2010-12-01 09:37:00       1.95     14688.0  United Kingdom  \n",
      "4 2010-12-01 09:37:00       1.95     14688.0  United Kingdom  \n"
     ]
    }
   ],
   "source": [
    "df1=pd.read_excel(\"Online Retail.xlsx\",skiprows=[i for i in range(1,101)])\n",
    "df1=df1.sort_values(by=\"InvoiceDate\")\n",
    "print(df1.head())"
   ]
  },
  {
   "cell_type": "markdown",
   "metadata": {},
   "source": [
    "### Step 1.c.ii"
   ]
  },
  {
   "cell_type": "code",
   "execution_count": 44,
   "metadata": {},
   "outputs": [
    {
     "name": "stdout",
     "output_type": "stream",
     "text": [
      "13164                                 damages\n",
      "50949                                 damages\n",
      "105619                                damages\n",
      "114328                                damages\n",
      "114435                       dotcom sold sets\n",
      "115705                        damages/display\n",
      "115708                                damages\n",
      "115710                          damaged stock\n",
      "117796                                damages\n",
      "136171                               damages?\n",
      "146499                                damages\n",
      "150250                                damages\n",
      "154556                                damaged\n",
      "154699                                damaged\n",
      "160441    did  a credit  and did not tick ret\n",
      "166166                                damages\n",
      "166386                                damages\n",
      "166736                                damaged\n",
      "170384                                damaged\n",
      "170437                                damages\n",
      "173310                   damages/showroom etc\n",
      "174554             damages/credits from ASOS.\n",
      "180518                                damaged\n",
      "189199                                damaged\n",
      "192191                                damages\n",
      "192193                        damages/dotcom?\n",
      "192195                                damages\n",
      "200252                                damaged\n",
      "200462                                damages\n",
      "200463                                damages\n",
      "                         ...                 \n",
      "424208                                damages\n",
      "429085                                damages\n",
      "431699                           dotcom sales\n",
      "436531                                damaged\n",
      "445007                                damages\n",
      "445027                            damages wax\n",
      "445028                            damages wax\n",
      "446452                                damaged\n",
      "465597                                damages\n",
      "467718                                damages\n",
      "467719                                damages\n",
      "472122                                damaged\n",
      "474547                                damaged\n",
      "476766                            dotcomstock\n",
      "485493                          dotcom adjust\n",
      "485494                                 dotcom\n",
      "489143                                damaged\n",
      "492098                                damaged\n",
      "492559                                 dotcom\n",
      "497716                                damages\n",
      "497717                                damages\n",
      "497718                                damages\n",
      "500045                                damaged\n",
      "514881                                damaged\n",
      "522058                                damages\n",
      "522059                                damages\n",
      "524372                                 dotcom\n",
      "524374                                 dotcom\n",
      "535224                               damages?\n",
      "535228                                damages\n",
      "Name: Description, Length: 111, dtype: object\n"
     ]
    }
   ],
   "source": [
    "df1=df1[\"Description\"]\n",
    "print(df1.loc[df1.str.startswith('d',na=False)])"
   ]
  },
  {
   "cell_type": "markdown",
   "metadata": {},
   "source": [
    "### Step 2.a.i"
   ]
  },
  {
   "cell_type": "code",
   "execution_count": 54,
   "metadata": {},
   "outputs": [
    {
     "name": "stdout",
     "output_type": "stream",
     "text": [
      "       student name date of birth  marks in maths\n",
      "0      Raghav Verma    03/09/2000             100\n",
      "1         Raja Modi    02/08/2000              98\n",
      "2     Krishna Murti    21/07/1999              70\n",
      "3  Priyanshu Prasad    10/07/2000              80\n",
      "4      Manav Gakhar    15/06/2000              95\n",
      "[100, 98, 70, 80, 95]\n"
     ]
    }
   ],
   "source": [
    "#lists of lists\n",
    "student=[['student name','date of birth','marks in maths'],\n",
    "         ['Raghav Verma','03/09/2000',100],\n",
    "        ['Raja Modi','02/08/2000',98],\n",
    "        ['Krishna Murti','21/07/1999',70],\n",
    "        ['Priyanshu Prasad','10/07/2000',80],\n",
    "        ['Manav Gakhar','15/06/2000',95]]\n",
    "headers=student.pop(0)\n",
    "studentdf=pd.DataFrame(student,columns=headers)\n",
    "print(studentdf)\n",
    "print(studentdf['marks in maths'].tolist())"
   ]
  },
  {
   "cell_type": "markdown",
   "metadata": {},
   "source": [
    "### Step 2.a.ii"
   ]
  },
  {
   "cell_type": "code",
   "execution_count": 57,
   "metadata": {},
   "outputs": [
    {
     "name": "stdout",
     "output_type": "stream",
     "text": [
      "       student name date of birth  marks in maths\n",
      "0      Raghav Verma    03/09/2000             100\n",
      "1         Raja Modi    02/08/2000              98\n",
      "2     Krishna Murti    21/07/1999              70\n",
      "3  Priyanshu Prasad    10/07/2000              80\n",
      "4      Manav Gakhar    15/06/2000              95\n"
     ]
    }
   ],
   "source": [
    "#dict of narray/lists\n",
    "student1={'student name':['Raghav Verma', 'Raja Modi', 'Krishna Murti', 'Priyanshu Prasad', 'Manav Gakhar'],\n",
    "          'date of birth':['03/09/2000', '02/08/2000', '21/07/1999', '10/07/2000', '15/06/2000'],\n",
    "          'marks in maths':[100, 98, 70, 80, 95]}\n",
    "studentdf1=pd.DataFrame(student1)\n",
    "print(studentdf1)"
   ]
  },
  {
   "cell_type": "markdown",
   "metadata": {},
   "source": [
    "### Step 2.a.iii"
   ]
  },
  {
   "cell_type": "code",
   "execution_count": 59,
   "metadata": {},
   "outputs": [
    {
     "name": "stdout",
     "output_type": "stream",
     "text": [
      "  date of birth  marks in maths      student name\n",
      "0    03/09/2000             100      Raghav Verma\n",
      "1    02/08/2000              98         Raja Modi\n",
      "2    21/07/1999              70     Krishna Murti\n",
      "3    10/07/2000              80  Priyanshu Prasad\n",
      "4    15/06/2000              95      Manav Gakhar\n"
     ]
    }
   ],
   "source": [
    "#list of dicts\n",
    "student2=[{'student name': 'Raghav Verma', 'date of birth': '03/09/2000', 'marks in maths': 100},\n",
    "          {'student name': 'Raja Modi', 'date of birth': '02/08/2000', 'marks in maths': 98}, \n",
    "          {'student name': 'Krishna Murti', 'date of birth': '21/07/1999', 'marks in maths': 70},\n",
    "          {'student name': 'Priyanshu Prasad', 'date of birth': '10/07/2000', 'marks in maths': 80},\n",
    "          {'student name': 'Manav Gakhar', 'date of birth': '15/06/2000', 'marks in maths': 95}]\n",
    "studentdf2=pd.DataFrame(student2)\n",
    "print(studentdf2)"
   ]
  },
  {
   "cell_type": "markdown",
   "metadata": {},
   "source": [
    "### Step 2.a.iv"
   ]
  },
  {
   "cell_type": "code",
   "execution_count": 62,
   "metadata": {},
   "outputs": [
    {
     "name": "stdout",
     "output_type": "stream",
     "text": [
      "       student name date of birth  marks in maths\n",
      "0      Raghav Verma    03/09/2000             100\n",
      "1         Raja Modi    02/08/2000              98\n",
      "2     Krishna Murti    21/07/1999              70\n",
      "3  Priyanshu Prasad    10/07/2000              80\n",
      "4      Manav Gakhar    15/06/2000              95\n"
     ]
    }
   ],
   "source": [
    "student3={'student name': pd.Series(['Raghav Verma', 'Raja Modi', 'Krishna Murti', 'Priyanshu Prasad', 'Manav Gakhar']),\n",
    "         'date of birth': pd.Series(['03/09/2000', '02/08/2000', '21/07/1999', '10/07/2000', '15/06/2000']),\n",
    "         'marks in maths': pd.Series([100, 98, 70, 80, 95])}\n",
    "studentdf3=pd.DataFrame(student3)\n",
    "print(studentdf3)"
   ]
  },
  {
   "cell_type": "markdown",
   "metadata": {},
   "source": [
    "### Step 2.b"
   ]
  },
  {
   "cell_type": "code",
   "execution_count": 67,
   "metadata": {},
   "outputs": [
    {
     "name": "stdout",
     "output_type": "stream",
     "text": [
      "Empty DataFrame\n",
      "Columns: [student name, date of birth, marks in maths]\n",
      "Index: []\n"
     ]
    }
   ],
   "source": [
    "#empty dataframe\n",
    "studentdf4=pd.DataFrame(columns=['student name','date of birth','marks in maths'])\n",
    "print(studentdf4)"
   ]
  },
  {
   "cell_type": "code",
   "execution_count": 72,
   "metadata": {},
   "outputs": [
    {
     "name": "stdout",
     "output_type": "stream",
     "text": [
      "   student name date of birth marks in maths\n",
      "0  Raghav Verma    03/09/2000            100\n"
     ]
    }
   ],
   "source": [
    "studentdf4=studentdf4.append({'student name' :'Raghav Verma', \n",
    "                             'date of birth': '03/09/2000', 'marks in maths': 100},ignore_index=True)\n",
    "print(studentdf4)"
   ]
  },
  {
   "cell_type": "code",
   "execution_count": 74,
   "metadata": {},
   "outputs": [
    {
     "name": "stdout",
     "output_type": "stream",
     "text": [
      "   student name date of birth marks in maths\n",
      "0  Raghav Verma    03/09/2000            100\n",
      "1     Raja Modi    02/08/2000             98\n"
     ]
    }
   ],
   "source": [
    "studentdf4=studentdf4.append({'student name': 'Raja Modi', 'date of birth': '02/08/2000', 'marks in maths': 98},ignore_index=True)\n",
    "print(studentdf4)"
   ]
  },
  {
   "cell_type": "code",
   "execution_count": 76,
   "metadata": {},
   "outputs": [
    {
     "name": "stdout",
     "output_type": "stream",
     "text": [
      "    student name date of birth marks in maths\n",
      "0   Raghav Verma    03/09/2000            100\n",
      "1      Raja Modi    02/08/2000             98\n",
      "2  Krishna Murti    21/07/1999             70\n"
     ]
    }
   ],
   "source": [
    "studentdf4=studentdf4.append({'student name': 'Krishna Murti', 'date of birth': '21/07/1999', 'marks in maths': 70}\n",
    "                            ,ignore_index=True)\n",
    "print(studentdf4)"
   ]
  },
  {
   "cell_type": "code",
   "execution_count": 77,
   "metadata": {},
   "outputs": [
    {
     "name": "stdout",
     "output_type": "stream",
     "text": [
      "       student name date of birth marks in maths\n",
      "0      Raghav Verma    03/09/2000            100\n",
      "1         Raja Modi    02/08/2000             98\n",
      "2     Krishna Murti    21/07/1999             70\n",
      "3  Priyanshu Prasad    10/07/2000             80\n"
     ]
    }
   ],
   "source": [
    "studentdf4=studentdf4.append({'student name': 'Priyanshu Prasad', 'date of birth': '10/07/2000', 'marks in maths': 80}\n",
    "                            ,ignore_index=True)\n",
    "print(studentdf4)"
   ]
  },
  {
   "cell_type": "code",
   "execution_count": 78,
   "metadata": {},
   "outputs": [
    {
     "name": "stdout",
     "output_type": "stream",
     "text": [
      "       student name date of birth marks in maths\n",
      "0      Raghav Verma    03/09/2000            100\n",
      "1         Raja Modi    02/08/2000             98\n",
      "2     Krishna Murti    21/07/1999             70\n",
      "3  Priyanshu Prasad    10/07/2000             80\n",
      "4      Manav Gakhar    15/06/2000             95\n"
     ]
    }
   ],
   "source": [
    "studentdf4=studentdf4.append({'student name': 'Manav Gakhar', 'date of birth': '15/06/2000', 'marks in maths': 95}\n",
    "                            ,ignore_index=True)\n",
    "print(studentdf4)"
   ]
  },
  {
   "cell_type": "markdown",
   "metadata": {},
   "source": [
    "### Step 3.a & 3.b & 3.c"
   ]
  },
  {
   "cell_type": "code",
   "execution_count": 91,
   "metadata": {},
   "outputs": [
    {
     "name": "stdout",
     "output_type": "stream",
     "text": [
      "    number 1   number2       add       sub      mult        div\n",
      "0   1.382193 -0.711202  0.670991  2.093395 -0.983019  -1.943461\n",
      "1   0.719177 -0.095285  0.623893  0.814462 -0.068527  -7.547664\n",
      "2  -0.612603 -0.789674 -1.402277  0.177071  0.483757   0.775768\n",
      "3  -0.492213  2.129597  1.637385 -2.621810 -1.048215  -0.231129\n",
      "4   1.142744  0.166155  1.308899  0.976590  0.189872   6.877591\n",
      "5   0.477267 -0.459602  0.017665  0.936869 -0.219353  -1.038436\n",
      "6  -0.845896 -0.065939 -0.911834 -0.779957  0.055777  12.828541\n",
      "7  -0.353102 -0.369041 -0.722143  0.015939  0.130309   0.956809\n",
      "8  -0.994946 -0.880442 -1.875388 -0.114505  0.875992   1.130054\n",
      "9  -0.708345  0.026745 -0.681601 -0.735090 -0.018945 -26.485270\n",
      "10 -1.653841 -0.142657 -1.796498 -1.511185  0.235932  11.593147\n",
      "11 -0.714144 -0.262444 -0.976588 -0.451700  0.187423   2.721132\n",
      "12 -0.017982 -1.360530 -1.378512  1.342548  0.024465   0.013217\n",
      "13 -0.768863  0.497491 -0.271372 -1.266354 -0.382502  -1.545481\n",
      "14 -0.137931  0.905463  0.767532 -1.043394 -0.124891  -0.152332\n",
      "15  0.090417  1.847193  1.937610 -1.756776  0.167017   0.048948\n",
      "16 -0.835876 -0.898353 -1.734228  0.062477  0.750911   0.930454\n",
      "17 -0.344711  0.441685  0.096974 -0.786396 -0.152254  -0.780445\n",
      "18 -0.416067  1.313283  0.897216 -1.729349 -0.546413  -0.316815\n",
      "19 -0.911333 -0.356373 -1.267706 -0.554960  0.324774   2.557247\n",
      "20  0.558963  0.605136  1.164100 -0.046173  0.338249   0.923698\n",
      "21  0.899966  0.445627  1.345593  0.454339  0.401049   2.019548\n",
      "22 -0.854374  1.004515  0.150141 -1.858889 -0.858232  -0.850534\n",
      "23  1.604295  0.141362  1.745657  1.462933  0.226786  11.348843\n",
      "24 -2.495039 -0.734878 -3.229918 -1.760161  1.833551   3.395172\n",
      "25 -0.952109  1.285329  0.333219 -2.237438 -1.223774  -0.740752\n",
      "26  0.446441  0.391432  0.837873  0.055010  0.174751   1.140535\n",
      "27 -0.396502  0.911902  0.515400 -1.308404 -0.361571  -0.434808\n",
      "28 -0.094426  1.403411  1.308985 -1.497837 -0.132519  -0.067283\n",
      "29 -0.500469 -0.909834 -1.410302  0.409365  0.455343   0.550066\n",
      "..       ...       ...       ...       ...       ...        ...\n",
      "70  1.305204  0.231436  1.536641  1.073768  0.302071   5.639587\n",
      "71  0.385087  0.068984  0.454071  0.316103  0.026565   5.582282\n",
      "72  1.252898 -0.400971  0.851927  1.653870 -0.502376  -3.124657\n",
      "73  0.202241  1.037313  1.239554 -0.835073  0.209787   0.194966\n",
      "74  0.537627 -2.690772 -2.153145  3.228399 -1.446633  -0.199804\n",
      "75  0.124343 -0.885495 -0.761152  1.009838 -0.110105  -0.140422\n",
      "76 -0.956250  1.184765  0.228515 -2.141015 -1.132931  -0.807122\n",
      "77 -1.342931 -0.092850 -1.435781 -1.250080  0.124692  14.463393\n",
      "78 -0.489351 -1.297743 -1.787094  0.808392  0.635052   0.377078\n",
      "79 -0.592746  0.869786  0.277040 -1.462532 -0.515562  -0.681485\n",
      "80  1.066886 -0.164686  0.902201  1.231572 -0.175701  -6.478317\n",
      "81  0.229443 -0.437874 -0.208430  0.667317 -0.100467  -0.523994\n",
      "82 -0.362101  0.651753  0.289651 -1.013854 -0.236001  -0.555581\n",
      "83  0.791580  0.471470  1.263051  0.320110  0.373207   1.678960\n",
      "84 -1.045411 -0.758443 -1.803853 -0.286968  0.792884   1.378365\n",
      "85 -1.650994 -0.416448 -2.067442 -1.234546  0.687553   3.964467\n",
      "86 -0.717124  0.666997 -0.050127 -1.384121 -0.478319  -1.075154\n",
      "87 -0.964661  0.813521 -0.151139 -1.778182 -0.784772  -1.185784\n",
      "88  0.476108 -0.024812  0.451296  0.500919 -0.011813 -19.188798\n",
      "89  0.645262  0.899457  1.544720 -0.254195  0.580386   0.717391\n",
      "90  1.015056 -0.957565  0.057491  1.972621 -0.971982  -1.060039\n",
      "91 -1.085358  2.787105  1.701746 -3.872463 -3.025007  -0.389421\n",
      "92 -0.915808  1.914432  0.998625 -2.830240 -1.753252  -0.478370\n",
      "93 -0.510759  2.641173  2.130414 -3.151931 -1.349002  -0.193383\n",
      "94 -0.310197 -0.023959 -0.334156 -0.286237  0.007432  12.946837\n",
      "95  0.865746 -0.600847  0.264899  1.466593 -0.520181  -1.440876\n",
      "96  0.017706 -0.375260 -0.357553  0.392966 -0.006644  -0.047184\n",
      "97 -0.425135  0.584992  0.159857 -1.010127 -0.248701  -0.726736\n",
      "98  2.508840 -1.584010  0.924831  4.092850 -3.974027  -1.583854\n",
      "99  1.864403 -0.086570  1.777834  1.950973 -0.161401 -21.536469\n",
      "\n",
      "[100 rows x 6 columns]\n"
     ]
    }
   ],
   "source": [
    "import numpy as np\n",
    "number1=pd.Series(np.random.randn(100))\n",
    "number2=pd.Series(np.random.randn(100))\n",
    "add=number1+number2\n",
    "sub=number1-number2\n",
    "mult=number1*number2\n",
    "div=number1/number2\n",
    "print(pd.DataFrame({'number 1':number1,'number2':number2,'add':add,'sub':sub,'mult':mult,'div':div}))"
   ]
  },
  {
   "cell_type": "code",
   "execution_count": 93,
   "metadata": {},
   "outputs": [
    {
     "name": "stderr",
     "output_type": "stream",
     "text": [
      "warning: LF will be replaced by CRLF in E18CSE140_DL_Lab2.ipynb.\n",
      "The file will have its original line endings in your working directory\n"
     ]
    },
    {
     "name": "stdout",
     "output_type": "stream",
     "text": [
      "[master 48392b9] Fourth edit\n",
      " 1 file changed, 115 insertions(+), 76 deletions(-)\n"
     ]
    },
    {
     "name": "stderr",
     "output_type": "stream",
     "text": [
      "To https://github.com/raghavverma651/DL-Labs.git\n",
      "   3e6fdc4..48392b9  master -> master\n"
     ]
    }
   ],
   "source": [
    "!git add E18CSE140_DL_Lab2.ipynb\n",
    "!git commit -m \"Fourth edit\"\n",
    "!git push"
   ]
  },
  {
   "cell_type": "code",
   "execution_count": null,
   "metadata": {},
   "outputs": [],
   "source": []
  },
  {
   "cell_type": "code",
   "execution_count": null,
   "metadata": {},
   "outputs": [],
   "source": []
  },
  {
   "cell_type": "code",
   "execution_count": null,
   "metadata": {},
   "outputs": [],
   "source": []
  }
 ],
 "metadata": {
  "kernelspec": {
   "display_name": "Python 3",
   "language": "python",
   "name": "python3"
  },
  "language_info": {
   "codemirror_mode": {
    "name": "ipython",
    "version": 3
   },
   "file_extension": ".py",
   "mimetype": "text/x-python",
   "name": "python",
   "nbconvert_exporter": "python",
   "pygments_lexer": "ipython3",
   "version": "3.6.5"
  }
 },
 "nbformat": 4,
 "nbformat_minor": 2
}

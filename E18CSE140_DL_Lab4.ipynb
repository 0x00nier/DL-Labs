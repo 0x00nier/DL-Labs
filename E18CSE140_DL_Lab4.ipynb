{
 "cells": [
  {
   "cell_type": "code",
   "execution_count": 264,
   "metadata": {},
   "outputs": [],
   "source": [
    "import tensorflow.keras \n",
    "from tensorflow.keras.models import Sequential \n",
    "from tensorflow.keras.layers import Dense, Dropout, Activation\n",
    "from keras.preprocessing.text import Tokenizer\n",
    "import tensorflow as tf\n",
    "from nltk.corpus import stopwords\n",
    "from nltk.tokenize import RegexpTokenizer\n",
    "from nltk.probability import FreqDist\n",
    "import pandas as pd"
   ]
  },
  {
   "cell_type": "code",
   "execution_count": 246,
   "metadata": {},
   "outputs": [],
   "source": [
    "motivational='''\n",
    "The first and greatest victory is to conquer self Don’t stop until you’re proud.\n",
    "\n",
    "Life shrinks or expands in proportion to one’s courage. Upgrade your conviction to match your destiny.\n",
    "\n",
    "Tough times don’t last. Tough people do. It is during the hard times when the ‘hero’ within us is revealed.\n",
    "\n",
    "Our greatest glory is not in never falling, but in rising every time we fall. As long as the mind can envision the fact that you can do something, you can do it, as long as you really believe 100 percent.\n",
    "\n",
    "Don’t try to be perfect. Quitting lasts forever.\n",
    "\n",
    "Set a goal so large that you can’t achieve it until you grow into the person who can. Think about what might go right.\n",
    "\n",
    "The universe is a process. Try to be better than you were yesterday.\n",
    "\n",
    "Remember it’s just a bad day, not a bad life. Take a deep breath, stay positive and know that things will get better.\n",
    "\n",
    "The only person you are destined to become is the person you decide to be. Work hard, stay consistent, and be patient.\n",
    "\n",
    "Courage is one step ahead of fear. Upgrade your conviction to match your destiny. \n",
    "\n",
    "The path to success is to take massive, determined actions. When you face your struggles, you overcome them.\n",
    "\n",
    "Don’t think about what might go wrong. Be so good they can’t ignore you.\n",
    "\n",
    "The mind is the limit. Work hard, stay consistent, and be patient.\n",
    "\n",
    "Goals may give focus, but dreams give power. You can be anything you want to be, do anything you set out to accomplish if you hold to that desire with singleness of purpose.\n",
    "\n",
    "Use what you have. Never give up\n",
    "\n",
    "Make the most of yourself….for that is all there is of you. You have to memorize to be disciplined.\n",
    "\n",
    "The pain you feel today will be the strength you feel tomorrow. Willing is not enough; we must do.\n",
    "\n",
    "Keep going Try to be better than you were yesterday.\n",
    "\n",
    "Don’t downgrade your dream just to fit your reality. Work hard, stay consistent, and be patient.\n",
    "\n",
    "The future belongs to those who believe in the beauty of their dreams. Nothing can be done without hope and confidence. \n",
    "'''\n",
    "motivational=motivational.lower()\n",
    "motivational=motivational.split('\\n')\n",
    "motivational=list(set(motivational))\n",
    "motivational.remove('')"
   ]
  },
  {
   "cell_type": "code",
   "execution_count": 247,
   "metadata": {},
   "outputs": [],
   "source": [
    "demotivational='''Sex is mathematics. Individuality no longer an issue. What does intelligence signify? Define reason. Desire - meaningless. Intellect is not a cure. Justice is dead.\n",
    "Just imagine how terrible it might have been if we’d been at all competent.\n",
    "When you wish upon a falling star, your dreams can come true. Unless it's really a meteor hurtling to the Earth which will destroy all life. Then you're pretty much hosed no matter what you wish for. Unless it's death by meteorite.\n",
    "There are no stupid questions, but there are a LOT of inquisitive idiots.\n",
    "Nothing says \"you're a loser\" more than owning a motivational poster about being a winner.\n",
    "Accept that you're just a product, not a gift.\n",
    "Teach every child you meet the importance of forgiveness. It's our only hope of surviving their wrath once they realize just how badly we've screwed things up for them.\n",
    "The United States was a big country where everybody wore funny t-shirts and ate too much.\n",
    "You have to make the good out of the bad because that is all you have got to make it out of.\n",
    "You can do anything you set your mind to when you have vision, determination, and an endless supply of expendable labor.\n",
    "Happy people do not wake up for breakfast.\n",
    "Life is only logical, and to think it's a gift is depressing.\n",
    "Try & try until you cannot succeed.\n",
    "Every dead body on Mount Everest was once a highly motivated person. Stay lazy my friends. It may save your life one day.\n",
    "Furthermore, having lost faith in himself, he thought it his duty to undermine the nation's faith in itself.\n",
    "If you're not a part of the solution, there's good money to be made in prolonging the problem.\n",
    "The first step towards failure is trying.\n",
    "Those who doubt your ability probably have a valid reason.\n",
    "The best things in life are actually really expensive.\n",
    "Dream is the only way for you to escape the miserable reality of your life.'''\n",
    "demotivational=demotivational.lower()\n",
    "demotivational=demotivational.split('\\n')"
   ]
  },
  {
   "cell_type": "code",
   "execution_count": null,
   "metadata": {},
   "outputs": [],
   "source": []
  },
  {
   "cell_type": "code",
   "execution_count": 248,
   "metadata": {},
   "outputs": [],
   "source": [
    "tokenizer = RegexpTokenizer(r'\\w+')\n",
    "stopWords = set(stopwords.words('english'))"
   ]
  },
  {
   "cell_type": "code",
   "execution_count": 249,
   "metadata": {},
   "outputs": [],
   "source": [
    "for i in range(len(motivational)):\n",
    "    motivational[i]=tokenizer.tokenize(motivational[i])\n",
    "    demotivational[i]=tokenizer.tokenize(demotivational[i])"
   ]
  },
  {
   "cell_type": "code",
   "execution_count": 250,
   "metadata": {},
   "outputs": [],
   "source": [
    "demot=[]\n",
    "mot=[]\n",
    "for i in motivational:\n",
    "    tempmot=[]\n",
    "    for j in i:\n",
    "        if j not in stopWords:\n",
    "            tempmot.append(j)\n",
    "    mot.append(tempmot)\n",
    "for i in demotivational:\n",
    "    tempdemot=[]\n",
    "    for j in i:\n",
    "        if j not in stopWords:\n",
    "            tempdemot.append(j)\n",
    "    demot.append(tempdemot)"
   ]
  },
  {
   "cell_type": "code",
   "execution_count": 251,
   "metadata": {},
   "outputs": [],
   "source": [
    "for i in range(len(mot)):\n",
    "    mot[i] = nltk.FreqDist(mot[i])\n",
    "for i in range(len(demot)):\n",
    "    demot[i] = nltk.FreqDist(demot[i])"
   ]
  },
  {
   "cell_type": "code",
   "execution_count": 252,
   "metadata": {},
   "outputs": [],
   "source": [
    "df1=pd.DataFrame.from_dict(mot)\n",
    "df1['class']=0\n",
    "df2=pd.DataFrame.from_dict(demot)\n",
    "df2['class']=1"
   ]
  },
  {
   "cell_type": "code",
   "execution_count": 253,
   "metadata": {},
   "outputs": [],
   "source": [
    "final=pd.concat([df1,df2])\n"
   ]
  },
  {
   "cell_type": "code",
   "execution_count": 254,
   "metadata": {},
   "outputs": [],
   "source": [
    "final=final.fillna(0.0)"
   ]
  },
  {
   "cell_type": "code",
   "execution_count": 270,
   "metadata": {},
   "outputs": [
    {
     "data": {
      "text/html": [
       "<div>\n",
       "<style scoped>\n",
       "    .dataframe tbody tr th:only-of-type {\n",
       "        vertical-align: middle;\n",
       "    }\n",
       "\n",
       "    .dataframe tbody tr th {\n",
       "        vertical-align: top;\n",
       "    }\n",
       "\n",
       "    .dataframe thead th {\n",
       "        text-align: right;\n",
       "    }\n",
       "</style>\n",
       "<table border=\"1\" class=\"dataframe\">\n",
       "  <thead>\n",
       "    <tr style=\"text-align: right;\">\n",
       "      <th></th>\n",
       "      <th>goals</th>\n",
       "      <th>may</th>\n",
       "      <th>give</th>\n",
       "      <th>focus</th>\n",
       "      <th>dreams</th>\n",
       "      <th>power</th>\n",
       "      <th>anything</th>\n",
       "      <th>want</th>\n",
       "      <th>set</th>\n",
       "      <th>accomplish</th>\n",
       "      <th>...</th>\n",
       "      <th>doubt</th>\n",
       "      <th>ability</th>\n",
       "      <th>probably</th>\n",
       "      <th>valid</th>\n",
       "      <th>best</th>\n",
       "      <th>actually</th>\n",
       "      <th>expensive</th>\n",
       "      <th>way</th>\n",
       "      <th>escape</th>\n",
       "      <th>miserable</th>\n",
       "    </tr>\n",
       "  </thead>\n",
       "  <tbody>\n",
       "    <tr>\n",
       "      <th>15</th>\n",
       "      <td>0.0</td>\n",
       "      <td>0.0</td>\n",
       "      <td>0.0</td>\n",
       "      <td>0.0</td>\n",
       "      <td>0.0</td>\n",
       "      <td>0.0</td>\n",
       "      <td>0.0</td>\n",
       "      <td>0.0</td>\n",
       "      <td>0.0</td>\n",
       "      <td>0.0</td>\n",
       "      <td>...</td>\n",
       "      <td>0.0</td>\n",
       "      <td>0.0</td>\n",
       "      <td>0.0</td>\n",
       "      <td>0.0</td>\n",
       "      <td>0.0</td>\n",
       "      <td>0.0</td>\n",
       "      <td>0.0</td>\n",
       "      <td>0.0</td>\n",
       "      <td>0.0</td>\n",
       "      <td>0.0</td>\n",
       "    </tr>\n",
       "    <tr>\n",
       "      <th>16</th>\n",
       "      <td>0.0</td>\n",
       "      <td>0.0</td>\n",
       "      <td>0.0</td>\n",
       "      <td>0.0</td>\n",
       "      <td>0.0</td>\n",
       "      <td>0.0</td>\n",
       "      <td>0.0</td>\n",
       "      <td>0.0</td>\n",
       "      <td>0.0</td>\n",
       "      <td>0.0</td>\n",
       "      <td>...</td>\n",
       "      <td>0.0</td>\n",
       "      <td>0.0</td>\n",
       "      <td>0.0</td>\n",
       "      <td>0.0</td>\n",
       "      <td>0.0</td>\n",
       "      <td>0.0</td>\n",
       "      <td>0.0</td>\n",
       "      <td>0.0</td>\n",
       "      <td>0.0</td>\n",
       "      <td>0.0</td>\n",
       "    </tr>\n",
       "    <tr>\n",
       "      <th>17</th>\n",
       "      <td>0.0</td>\n",
       "      <td>0.0</td>\n",
       "      <td>0.0</td>\n",
       "      <td>0.0</td>\n",
       "      <td>0.0</td>\n",
       "      <td>0.0</td>\n",
       "      <td>0.0</td>\n",
       "      <td>0.0</td>\n",
       "      <td>0.0</td>\n",
       "      <td>0.0</td>\n",
       "      <td>...</td>\n",
       "      <td>1.0</td>\n",
       "      <td>1.0</td>\n",
       "      <td>1.0</td>\n",
       "      <td>1.0</td>\n",
       "      <td>0.0</td>\n",
       "      <td>0.0</td>\n",
       "      <td>0.0</td>\n",
       "      <td>0.0</td>\n",
       "      <td>0.0</td>\n",
       "      <td>0.0</td>\n",
       "    </tr>\n",
       "    <tr>\n",
       "      <th>18</th>\n",
       "      <td>0.0</td>\n",
       "      <td>0.0</td>\n",
       "      <td>0.0</td>\n",
       "      <td>0.0</td>\n",
       "      <td>0.0</td>\n",
       "      <td>0.0</td>\n",
       "      <td>0.0</td>\n",
       "      <td>0.0</td>\n",
       "      <td>0.0</td>\n",
       "      <td>0.0</td>\n",
       "      <td>...</td>\n",
       "      <td>0.0</td>\n",
       "      <td>0.0</td>\n",
       "      <td>0.0</td>\n",
       "      <td>0.0</td>\n",
       "      <td>1.0</td>\n",
       "      <td>1.0</td>\n",
       "      <td>1.0</td>\n",
       "      <td>0.0</td>\n",
       "      <td>0.0</td>\n",
       "      <td>0.0</td>\n",
       "    </tr>\n",
       "    <tr>\n",
       "      <th>19</th>\n",
       "      <td>0.0</td>\n",
       "      <td>0.0</td>\n",
       "      <td>0.0</td>\n",
       "      <td>0.0</td>\n",
       "      <td>0.0</td>\n",
       "      <td>0.0</td>\n",
       "      <td>0.0</td>\n",
       "      <td>0.0</td>\n",
       "      <td>0.0</td>\n",
       "      <td>0.0</td>\n",
       "      <td>...</td>\n",
       "      <td>0.0</td>\n",
       "      <td>0.0</td>\n",
       "      <td>0.0</td>\n",
       "      <td>0.0</td>\n",
       "      <td>0.0</td>\n",
       "      <td>0.0</td>\n",
       "      <td>0.0</td>\n",
       "      <td>1.0</td>\n",
       "      <td>1.0</td>\n",
       "      <td>1.0</td>\n",
       "    </tr>\n",
       "  </tbody>\n",
       "</table>\n",
       "<p>5 rows × 247 columns</p>\n",
       "</div>"
      ],
      "text/plain": [
       "    goals  may  give  focus  dreams  power  anything  want  set  accomplish  \\\n",
       "15    0.0  0.0   0.0    0.0     0.0    0.0       0.0   0.0  0.0         0.0   \n",
       "16    0.0  0.0   0.0    0.0     0.0    0.0       0.0   0.0  0.0         0.0   \n",
       "17    0.0  0.0   0.0    0.0     0.0    0.0       0.0   0.0  0.0         0.0   \n",
       "18    0.0  0.0   0.0    0.0     0.0    0.0       0.0   0.0  0.0         0.0   \n",
       "19    0.0  0.0   0.0    0.0     0.0    0.0       0.0   0.0  0.0         0.0   \n",
       "\n",
       "    ...  doubt  ability  probably  valid  best  actually  expensive  way  \\\n",
       "15  ...    0.0      0.0       0.0    0.0   0.0       0.0        0.0  0.0   \n",
       "16  ...    0.0      0.0       0.0    0.0   0.0       0.0        0.0  0.0   \n",
       "17  ...    1.0      1.0       1.0    1.0   0.0       0.0        0.0  0.0   \n",
       "18  ...    0.0      0.0       0.0    0.0   1.0       1.0        1.0  0.0   \n",
       "19  ...    0.0      0.0       0.0    0.0   0.0       0.0        0.0  1.0   \n",
       "\n",
       "    escape  miserable  \n",
       "15     0.0        0.0  \n",
       "16     0.0        0.0  \n",
       "17     0.0        0.0  \n",
       "18     0.0        0.0  \n",
       "19     1.0        1.0  \n",
       "\n",
       "[5 rows x 247 columns]"
      ]
     },
     "execution_count": 270,
     "metadata": {},
     "output_type": "execute_result"
    }
   ],
   "source": [
    "final.tail()"
   ]
  },
  {
   "cell_type": "code",
   "execution_count": 259,
   "metadata": {},
   "outputs": [],
   "source": [
    "from sklearn.model_selection import train_test_split\n",
    "X_train, X_test, y_train, y_test = train_test_split(final.drop('class',axis=1)\n",
    "                                                    , final['class'], test_size=0.20, random_state=42)"
   ]
  },
  {
   "cell_type": "code",
   "execution_count": 268,
   "metadata": {},
   "outputs": [
    {
     "ename": "TypeError",
     "evalue": "__init__() missing 1 required positional argument: 'units'",
     "output_type": "error",
     "traceback": [
      "\u001b[1;31m---------------------------------------------------------------------------\u001b[0m",
      "\u001b[1;31mTypeError\u001b[0m                                 Traceback (most recent call last)",
      "\u001b[1;32m<ipython-input-268-4a145256a08f>\u001b[0m in \u001b[0;36m<module>\u001b[1;34m\u001b[0m\n\u001b[0;32m      1\u001b[0m \u001b[0mmodel\u001b[0m\u001b[1;33m=\u001b[0m\u001b[0mSequential\u001b[0m\u001b[1;33m(\u001b[0m\u001b[1;33m)\u001b[0m\u001b[1;33m\u001b[0m\u001b[0m\n\u001b[1;32m----> 2\u001b[1;33m \u001b[0mmodel\u001b[0m\u001b[1;33m.\u001b[0m\u001b[0madd\u001b[0m\u001b[1;33m(\u001b[0m\u001b[0mDense\u001b[0m\u001b[1;33m(\u001b[0m\u001b[0minput_shape\u001b[0m\u001b[1;33m=\u001b[0m\u001b[0mX_train\u001b[0m\u001b[1;33m.\u001b[0m\u001b[0mshape\u001b[0m\u001b[1;33m)\u001b[0m\u001b[1;33m)\u001b[0m\u001b[1;33m\u001b[0m\u001b[0m\n\u001b[0m",
      "\u001b[1;31mTypeError\u001b[0m: __init__() missing 1 required positional argument: 'units'"
     ]
    }
   ],
   "source": [
    "model=Sequential()\n",
    "model.add(Dense(input_shape=X_train.shape))"
   ]
  },
  {
   "cell_type": "code",
   "execution_count": 269,
   "metadata": {},
   "outputs": [
    {
     "ename": "ValueError",
     "evalue": "This model has not yet been built. Build the model first by calling `build()` or calling `fit()` with some data, or specify an `input_shape` argument in the first layer(s) for automatic build.",
     "output_type": "error",
     "traceback": [
      "\u001b[1;31m---------------------------------------------------------------------------\u001b[0m",
      "\u001b[1;31mValueError\u001b[0m                                Traceback (most recent call last)",
      "\u001b[1;32m<ipython-input-269-5f15418b3570>\u001b[0m in \u001b[0;36m<module>\u001b[1;34m\u001b[0m\n\u001b[1;32m----> 1\u001b[1;33m \u001b[0mmodel\u001b[0m\u001b[1;33m.\u001b[0m\u001b[0msummary\u001b[0m\u001b[1;33m(\u001b[0m\u001b[1;33m)\u001b[0m\u001b[1;33m\u001b[0m\u001b[0m\n\u001b[0m",
      "\u001b[1;32m~\\AppData\\Roaming\\Python\\Python36\\site-packages\\tensorflow\\python\\keras\\engine\\training.py\u001b[0m in \u001b[0;36msummary\u001b[1;34m(self, line_length, positions, print_fn)\u001b[0m\n\u001b[0;32m   2349\u001b[0m     \"\"\"\n\u001b[0;32m   2350\u001b[0m     \u001b[1;32mif\u001b[0m \u001b[1;32mnot\u001b[0m \u001b[0mself\u001b[0m\u001b[1;33m.\u001b[0m\u001b[0mbuilt\u001b[0m\u001b[1;33m:\u001b[0m\u001b[1;33m\u001b[0m\u001b[0m\n\u001b[1;32m-> 2351\u001b[1;33m       raise ValueError('This model has not yet been built. '\n\u001b[0m\u001b[0;32m   2352\u001b[0m                        \u001b[1;34m'Build the model first by calling `build()` or calling '\u001b[0m\u001b[1;33m\u001b[0m\u001b[0m\n\u001b[0;32m   2353\u001b[0m                        \u001b[1;34m'`fit()` with some data, or specify '\u001b[0m\u001b[1;33m\u001b[0m\u001b[0m\n",
      "\u001b[1;31mValueError\u001b[0m: This model has not yet been built. Build the model first by calling `build()` or calling `fit()` with some data, or specify an `input_shape` argument in the first layer(s) for automatic build."
     ]
    }
   ],
   "source": [
    "model.summary()"
   ]
  },
  {
   "cell_type": "code",
   "execution_count": 267,
   "metadata": {},
   "outputs": [
    {
     "data": {
      "text/plain": [
       "(32, 246)"
      ]
     },
     "execution_count": 267,
     "metadata": {},
     "output_type": "execute_result"
    }
   ],
   "source": [
    "X_train.shape"
   ]
  },
  {
   "cell_type": "code",
   "execution_count": null,
   "metadata": {},
   "outputs": [],
   "source": []
  }
 ],
 "metadata": {
  "kernelspec": {
   "display_name": "Python 3",
   "language": "python",
   "name": "python3"
  },
  "language_info": {
   "codemirror_mode": {
    "name": "ipython",
    "version": 3
   },
   "file_extension": ".py",
   "mimetype": "text/x-python",
   "name": "python",
   "nbconvert_exporter": "python",
   "pygments_lexer": "ipython3",
   "version": "3.6.5"
  }
 },
 "nbformat": 4,
 "nbformat_minor": 4
}
